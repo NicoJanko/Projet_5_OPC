{
 "cells": [
  {
   "cell_type": "code",
   "execution_count": 118,
   "id": "e6dfe4c0-817b-4d54-a071-48badc175b71",
   "metadata": {
    "execution": {
     "iopub.execute_input": "2022-12-05T14:57:58.308563Z",
     "iopub.status.busy": "2022-12-05T14:57:58.308563Z",
     "iopub.status.idle": "2022-12-05T14:57:58.314537Z",
     "shell.execute_reply": "2022-12-05T14:57:58.314537Z",
     "shell.execute_reply.started": "2022-12-05T14:57:58.308563Z"
    },
    "tags": []
   },
   "outputs": [],
   "source": [
    "import pandas as pd\n",
    "pd.options.mode.chained_assignment = None  # default='warn'\n",
    "import numpy as np\n",
    "import matplotlib.pyplot as plt\n",
    "import seaborn as sns\n",
    "import os"
   ]
  },
  {
   "cell_type": "code",
   "execution_count": 2,
   "id": "93fa413f-ff63-4253-b978-9bbaf48d4cb7",
   "metadata": {
    "execution": {
     "iopub.execute_input": "2022-12-05T13:32:04.142292Z",
     "iopub.status.busy": "2022-12-05T13:32:04.142292Z",
     "iopub.status.idle": "2022-12-05T13:32:04.298354Z",
     "shell.execute_reply": "2022-12-05T13:32:04.298354Z",
     "shell.execute_reply.started": "2022-12-05T13:32:04.142292Z"
    }
   },
   "outputs": [],
   "source": [
    "import time\n",
    "import datetime\n",
    "from sklearn import preprocessing\n",
    "from sklearn import cluster, metrics"
   ]
  },
  {
   "cell_type": "code",
   "execution_count": 17,
   "id": "b1ebb39a-167a-4e1f-8ffb-38a1cf536f6f",
   "metadata": {
    "execution": {
     "iopub.execute_input": "2022-12-05T13:49:03.106215Z",
     "iopub.status.busy": "2022-12-05T13:49:03.105218Z",
     "iopub.status.idle": "2022-12-05T13:49:03.120214Z",
     "shell.execute_reply": "2022-12-05T13:49:03.120214Z",
     "shell.execute_reply.started": "2022-12-05T13:49:03.106215Z"
    }
   },
   "outputs": [],
   "source": [
    "rscaler = preprocessing.RobustScaler()"
   ]
  },
  {
   "cell_type": "code",
   "execution_count": 4,
   "id": "d2364780-b157-4eae-9b1a-d242b783590e",
   "metadata": {
    "execution": {
     "iopub.execute_input": "2022-12-05T13:32:10.514734Z",
     "iopub.status.busy": "2022-12-05T13:32:10.514734Z",
     "iopub.status.idle": "2022-12-05T13:32:10.538732Z",
     "shell.execute_reply": "2022-12-05T13:32:10.538732Z",
     "shell.execute_reply.started": "2022-12-05T13:32:10.514734Z"
    },
    "tags": []
   },
   "outputs": [
    {
     "data": {
      "text/plain": [
       "(5929, 7)"
      ]
     },
     "execution_count": 4,
     "metadata": {},
     "output_type": "execute_result"
    }
   ],
   "source": [
    "df = pd.read_csv('df.csv')\n",
    "df.shape"
   ]
  },
  {
   "cell_type": "code",
   "execution_count": 196,
   "id": "a7e3d9d8-db51-48fb-b989-94e040015089",
   "metadata": {
    "execution": {
     "iopub.execute_input": "2022-12-05T16:21:54.740872Z",
     "iopub.status.busy": "2022-12-05T16:21:54.740872Z",
     "iopub.status.idle": "2022-12-05T16:21:54.758872Z",
     "shell.execute_reply": "2022-12-05T16:21:54.758872Z",
     "shell.execute_reply.started": "2022-12-05T16:21:54.740872Z"
    },
    "tags": []
   },
   "outputs": [],
   "source": [
    "def feat_eng(x):\n",
    "    #build the model x\n",
    "    y = pd.DataFrame(index = x['customer_unique_id'].unique())\n",
    "\n",
    "    #feature0  = number of order\n",
    "    y['n_order'] = x.groupby('customer_unique_id').order_id.count()\n",
    "\n",
    "    #feature1  = total value of orders\n",
    "    #y['payment_total'] = x.groupby('customer_unique_id').order_total.agg('sum')\n",
    "\n",
    "    #feature2-3  = mean and std of orders\n",
    "    y['payment_mean'] = x.groupby('customer_unique_id').order_total.agg('mean')\n",
    "    y['payment_std'] = x.groupby('customer_unique_id').order_total.agg('std')\n",
    "\n",
    "    #feature frequency4-10 of order on the distrib\n",
    "    x['order_dis'] = pd.cut(x['order_total'],30, duplicates = 'drop')\n",
    "    temp = pd.crosstab(x['customer_unique_id'], x['order_dis'], values = x['order_dis'], aggfunc= 'count', margins = True)\n",
    "    for i in range(temp.shape[1]):\n",
    "        temp.iloc[:,i] = round((temp.iloc[:,i]/temp.iloc[:,-1])*100,2)\n",
    "\n",
    "    temp = temp.drop(labels = 'All')\n",
    "    temp = temp.drop(labels = 'All', axis = 1)\n",
    "    y = y.join(temp)\n",
    "    #feature frequency11-135 of category\n",
    "    temp = pd.crosstab(x['customer_unique_id'], x['product_category_name'], values = x['product_category_name'], aggfunc= 'count', margins = True).fillna(0)\n",
    "    for i in range(temp.shape[1]):\n",
    "        temp.iloc[:,i] = round((temp.iloc[:,i]/temp.iloc[:,-1])*100,2)\n",
    "    temp = temp.drop(labels = 'All')\n",
    "    temp = temp.drop(labels = 'All', axis = 1)\n",
    "    y = y.join(temp)\n",
    "\n",
    "    #feature136-137 review score mean and std\n",
    "    y['rev_mean'] = x.groupby('customer_unique_id').review_score.agg('mean')\n",
    "    y['rev_std'] = x.groupby('customer_unique_id').review_score.agg('std')\n",
    "    #feature138  = days since last order\n",
    "    y['days_since_last_order'] = x.groupby('customer_unique_id').days_since_order.agg('min')\n",
    "    #feature139 = \"age\" of the custumer\n",
    "    y['age'] = x.groupby('customer_unique_id').days_since_order.agg('max')\n",
    "    y = y.loc[y['n_order'] > 1]\n",
    "    return y"
   ]
  },
  {
   "cell_type": "code",
   "execution_count": 186,
   "id": "1be7afd0-61f8-43bf-a920-fe904e79e536",
   "metadata": {
    "execution": {
     "iopub.execute_input": "2022-12-05T16:02:46.296476Z",
     "iopub.status.busy": "2022-12-05T16:02:46.296476Z",
     "iopub.status.idle": "2022-12-05T16:02:46.306474Z",
     "shell.execute_reply": "2022-12-05T16:02:46.306474Z",
     "shell.execute_reply.started": "2022-12-05T16:02:46.296476Z"
    },
    "tags": []
   },
   "outputs": [],
   "source": [
    "def simulate(x):\n",
    "    start = x['days_since_order'].max()\n",
    "    end = x['days_since_order'].min()\n",
    "    year = start - 365\n",
    "    t0 = x.loc[x['days_since_order'] < year ]\n",
    "    t0 = feat_eng(t0)\n",
    "    t0s = rscaler.fit_transform(t0.values)\n",
    "    clus = cluster.KMeans(n_clusters = 30,random_state=38)\n",
    "    clus.fit(t0s)\n",
    "    ari_l = []\n",
    "    year_n = year\n",
    "    for i in range(int((year-end)/7)):\n",
    "        tn = x.loc[x['days_since_order'] < year_n]\n",
    "        tn = feat_eng(tn)\n",
    "        tns = rscaler.fit_transform(tn.values)\n",
    "        clus2 = cluster.KMeans(n_clusters = 30,random_state=38)\n",
    "        tn['pred_labels'] = clus2.fit_predict(tns)\n",
    "        tn['true_labels'] = clus.predict(tns)\n",
    "        ari_l.append(metrics.adjusted_rand_score(np.array(tn['true_labels']), np.array(tn['pred_labels'])))\n",
    "        year_n = year_n+7\n",
    "    return ari_l"
   ]
  },
  {
   "cell_type": "code",
   "execution_count": 165,
   "id": "71305954-6bd7-46cc-a81e-57742fb49b2e",
   "metadata": {
    "execution": {
     "iopub.execute_input": "2022-12-05T15:37:55.983609Z",
     "iopub.status.busy": "2022-12-05T15:37:55.983609Z",
     "iopub.status.idle": "2022-12-05T15:37:55.988611Z",
     "shell.execute_reply": "2022-12-05T15:37:55.988611Z",
     "shell.execute_reply.started": "2022-12-05T15:37:55.983609Z"
    },
    "tags": []
   },
   "outputs": [
    {
     "data": {
      "text/plain": [
       "['0', '3']"
      ]
     },
     "execution_count": 165,
     "metadata": {},
     "output_type": "execute_result"
    }
   ],
   "source": [
    "a = ['0','1','2','3']\n",
    "b = ['1','2']\n",
    "prout = [x for x in b + a if x not in b or x not in a]\n",
    "prout"
   ]
  },
  {
   "cell_type": "code",
   "execution_count": 170,
   "id": "d82d24ef-5942-4f18-b881-fad1b7a7025e",
   "metadata": {
    "execution": {
     "iopub.execute_input": "2022-12-05T15:39:22.936232Z",
     "iopub.status.busy": "2022-12-05T15:39:22.935232Z",
     "iopub.status.idle": "2022-12-05T15:39:22.942230Z",
     "shell.execute_reply": "2022-12-05T15:39:22.942230Z",
     "shell.execute_reply.started": "2022-12-05T15:39:22.936232Z"
    },
    "tags": []
   },
   "outputs": [
    {
     "data": {
      "text/plain": [
       "list"
      ]
     },
     "execution_count": 170,
     "metadata": {},
     "output_type": "execute_result"
    }
   ],
   "source": [
    "type(list(t0.columns))"
   ]
  },
  {
   "cell_type": "code",
   "execution_count": 187,
   "id": "60a367cd-a04f-4300-a386-37e03a851a88",
   "metadata": {
    "execution": {
     "iopub.execute_input": "2022-12-05T16:02:48.271888Z",
     "iopub.status.busy": "2022-12-05T16:02:48.271888Z",
     "iopub.status.idle": "2022-12-05T16:02:50.586862Z",
     "shell.execute_reply": "2022-12-05T16:02:50.586862Z",
     "shell.execute_reply.started": "2022-12-05T16:02:48.271888Z"
    },
    "tags": []
   },
   "outputs": [
    {
     "ename": "ValueError",
     "evalue": "X has 144 features, but KMeans is expecting 143 features as input.",
     "output_type": "error",
     "traceback": [
      "\u001b[1;31m---------------------------------------------------------------------------\u001b[0m",
      "\u001b[1;31mValueError\u001b[0m                                Traceback (most recent call last)",
      "Input \u001b[1;32mIn [187]\u001b[0m, in \u001b[0;36m<cell line: 1>\u001b[1;34m()\u001b[0m\n\u001b[1;32m----> 1\u001b[0m test \u001b[38;5;241m=\u001b[39m \u001b[43msimulate\u001b[49m\u001b[43m(\u001b[49m\u001b[43mdf\u001b[49m\u001b[43m)\u001b[49m\n",
      "Input \u001b[1;32mIn [186]\u001b[0m, in \u001b[0;36msimulate\u001b[1;34m(x)\u001b[0m\n\u001b[0;32m     16\u001b[0m clus2 \u001b[38;5;241m=\u001b[39m cluster\u001b[38;5;241m.\u001b[39mKMeans(n_clusters \u001b[38;5;241m=\u001b[39m \u001b[38;5;241m30\u001b[39m,random_state\u001b[38;5;241m=\u001b[39m\u001b[38;5;241m38\u001b[39m)\n\u001b[0;32m     17\u001b[0m tn[\u001b[38;5;124m'\u001b[39m\u001b[38;5;124mpred_labels\u001b[39m\u001b[38;5;124m'\u001b[39m] \u001b[38;5;241m=\u001b[39m clus2\u001b[38;5;241m.\u001b[39mfit_predict(tns)\n\u001b[1;32m---> 18\u001b[0m tn[\u001b[38;5;124m'\u001b[39m\u001b[38;5;124mtrue_labels\u001b[39m\u001b[38;5;124m'\u001b[39m] \u001b[38;5;241m=\u001b[39m \u001b[43mclus\u001b[49m\u001b[38;5;241;43m.\u001b[39;49m\u001b[43mpredict\u001b[49m\u001b[43m(\u001b[49m\u001b[43mtns\u001b[49m\u001b[43m)\u001b[49m\n\u001b[0;32m     19\u001b[0m ari_l\u001b[38;5;241m.\u001b[39mappend(metrics\u001b[38;5;241m.\u001b[39madjusted_rand_score(np\u001b[38;5;241m.\u001b[39marray(tn[\u001b[38;5;124m'\u001b[39m\u001b[38;5;124mtrue_labels\u001b[39m\u001b[38;5;124m'\u001b[39m]), np\u001b[38;5;241m.\u001b[39marray(tn[\u001b[38;5;124m'\u001b[39m\u001b[38;5;124mpred_labels\u001b[39m\u001b[38;5;124m'\u001b[39m])))\n\u001b[0;32m     20\u001b[0m year_n \u001b[38;5;241m=\u001b[39m year_n\u001b[38;5;241m+\u001b[39m\u001b[38;5;241m7\u001b[39m\n",
      "File \u001b[1;32mE:\\Data_Science\\Anaconda\\lib\\site-packages\\sklearn\\cluster\\_kmeans.py:1330\u001b[0m, in \u001b[0;36mKMeans.predict\u001b[1;34m(self, X, sample_weight)\u001b[0m\n\u001b[0;32m   1308\u001b[0m \u001b[38;5;124;03m\"\"\"Predict the closest cluster each sample in X belongs to.\u001b[39;00m\n\u001b[0;32m   1309\u001b[0m \n\u001b[0;32m   1310\u001b[0m \u001b[38;5;124;03mIn the vector quantization literature, `cluster_centers_` is called\u001b[39;00m\n\u001b[1;32m   (...)\u001b[0m\n\u001b[0;32m   1326\u001b[0m \u001b[38;5;124;03m    Index of the cluster each sample belongs to.\u001b[39;00m\n\u001b[0;32m   1327\u001b[0m \u001b[38;5;124;03m\"\"\"\u001b[39;00m\n\u001b[0;32m   1328\u001b[0m check_is_fitted(\u001b[38;5;28mself\u001b[39m)\n\u001b[1;32m-> 1330\u001b[0m X \u001b[38;5;241m=\u001b[39m \u001b[38;5;28;43mself\u001b[39;49m\u001b[38;5;241;43m.\u001b[39;49m\u001b[43m_check_test_data\u001b[49m\u001b[43m(\u001b[49m\u001b[43mX\u001b[49m\u001b[43m)\u001b[49m\n\u001b[0;32m   1331\u001b[0m x_squared_norms \u001b[38;5;241m=\u001b[39m row_norms(X, squared\u001b[38;5;241m=\u001b[39m\u001b[38;5;28;01mTrue\u001b[39;00m)\n\u001b[0;32m   1332\u001b[0m sample_weight \u001b[38;5;241m=\u001b[39m _check_sample_weight(sample_weight, X, dtype\u001b[38;5;241m=\u001b[39mX\u001b[38;5;241m.\u001b[39mdtype)\n",
      "File \u001b[1;32mE:\\Data_Science\\Anaconda\\lib\\site-packages\\sklearn\\cluster\\_kmeans.py:1007\u001b[0m, in \u001b[0;36mKMeans._check_test_data\u001b[1;34m(self, X)\u001b[0m\n\u001b[0;32m   1006\u001b[0m \u001b[38;5;28;01mdef\u001b[39;00m \u001b[38;5;21m_check_test_data\u001b[39m(\u001b[38;5;28mself\u001b[39m, X):\n\u001b[1;32m-> 1007\u001b[0m     X \u001b[38;5;241m=\u001b[39m \u001b[38;5;28;43mself\u001b[39;49m\u001b[38;5;241;43m.\u001b[39;49m\u001b[43m_validate_data\u001b[49m\u001b[43m(\u001b[49m\n\u001b[0;32m   1008\u001b[0m \u001b[43m        \u001b[49m\u001b[43mX\u001b[49m\u001b[43m,\u001b[49m\n\u001b[0;32m   1009\u001b[0m \u001b[43m        \u001b[49m\u001b[43maccept_sparse\u001b[49m\u001b[38;5;241;43m=\u001b[39;49m\u001b[38;5;124;43m\"\u001b[39;49m\u001b[38;5;124;43mcsr\u001b[39;49m\u001b[38;5;124;43m\"\u001b[39;49m\u001b[43m,\u001b[49m\n\u001b[0;32m   1010\u001b[0m \u001b[43m        \u001b[49m\u001b[43mreset\u001b[49m\u001b[38;5;241;43m=\u001b[39;49m\u001b[38;5;28;43;01mFalse\u001b[39;49;00m\u001b[43m,\u001b[49m\n\u001b[0;32m   1011\u001b[0m \u001b[43m        \u001b[49m\u001b[43mdtype\u001b[49m\u001b[38;5;241;43m=\u001b[39;49m\u001b[43m[\u001b[49m\u001b[43mnp\u001b[49m\u001b[38;5;241;43m.\u001b[39;49m\u001b[43mfloat64\u001b[49m\u001b[43m,\u001b[49m\u001b[43m \u001b[49m\u001b[43mnp\u001b[49m\u001b[38;5;241;43m.\u001b[39;49m\u001b[43mfloat32\u001b[49m\u001b[43m]\u001b[49m\u001b[43m,\u001b[49m\n\u001b[0;32m   1012\u001b[0m \u001b[43m        \u001b[49m\u001b[43morder\u001b[49m\u001b[38;5;241;43m=\u001b[39;49m\u001b[38;5;124;43m\"\u001b[39;49m\u001b[38;5;124;43mC\u001b[39;49m\u001b[38;5;124;43m\"\u001b[39;49m\u001b[43m,\u001b[49m\n\u001b[0;32m   1013\u001b[0m \u001b[43m        \u001b[49m\u001b[43maccept_large_sparse\u001b[49m\u001b[38;5;241;43m=\u001b[39;49m\u001b[38;5;28;43;01mFalse\u001b[39;49;00m\u001b[43m,\u001b[49m\n\u001b[0;32m   1014\u001b[0m \u001b[43m    \u001b[49m\u001b[43m)\u001b[49m\n\u001b[0;32m   1015\u001b[0m     \u001b[38;5;28;01mreturn\u001b[39;00m X\n",
      "File \u001b[1;32mE:\\Data_Science\\Anaconda\\lib\\site-packages\\sklearn\\base.py:585\u001b[0m, in \u001b[0;36mBaseEstimator._validate_data\u001b[1;34m(self, X, y, reset, validate_separately, **check_params)\u001b[0m\n\u001b[0;32m    582\u001b[0m     out \u001b[38;5;241m=\u001b[39m X, y\n\u001b[0;32m    584\u001b[0m \u001b[38;5;28;01mif\u001b[39;00m \u001b[38;5;129;01mnot\u001b[39;00m no_val_X \u001b[38;5;129;01mand\u001b[39;00m check_params\u001b[38;5;241m.\u001b[39mget(\u001b[38;5;124m\"\u001b[39m\u001b[38;5;124mensure_2d\u001b[39m\u001b[38;5;124m\"\u001b[39m, \u001b[38;5;28;01mTrue\u001b[39;00m):\n\u001b[1;32m--> 585\u001b[0m     \u001b[38;5;28;43mself\u001b[39;49m\u001b[38;5;241;43m.\u001b[39;49m\u001b[43m_check_n_features\u001b[49m\u001b[43m(\u001b[49m\u001b[43mX\u001b[49m\u001b[43m,\u001b[49m\u001b[43m \u001b[49m\u001b[43mreset\u001b[49m\u001b[38;5;241;43m=\u001b[39;49m\u001b[43mreset\u001b[49m\u001b[43m)\u001b[49m\n\u001b[0;32m    587\u001b[0m \u001b[38;5;28;01mreturn\u001b[39;00m out\n",
      "File \u001b[1;32mE:\\Data_Science\\Anaconda\\lib\\site-packages\\sklearn\\base.py:400\u001b[0m, in \u001b[0;36mBaseEstimator._check_n_features\u001b[1;34m(self, X, reset)\u001b[0m\n\u001b[0;32m    397\u001b[0m     \u001b[38;5;28;01mreturn\u001b[39;00m\n\u001b[0;32m    399\u001b[0m \u001b[38;5;28;01mif\u001b[39;00m n_features \u001b[38;5;241m!=\u001b[39m \u001b[38;5;28mself\u001b[39m\u001b[38;5;241m.\u001b[39mn_features_in_:\n\u001b[1;32m--> 400\u001b[0m     \u001b[38;5;28;01mraise\u001b[39;00m \u001b[38;5;167;01mValueError\u001b[39;00m(\n\u001b[0;32m    401\u001b[0m         \u001b[38;5;124mf\u001b[39m\u001b[38;5;124m\"\u001b[39m\u001b[38;5;124mX has \u001b[39m\u001b[38;5;132;01m{\u001b[39;00mn_features\u001b[38;5;132;01m}\u001b[39;00m\u001b[38;5;124m features, but \u001b[39m\u001b[38;5;132;01m{\u001b[39;00m\u001b[38;5;28mself\u001b[39m\u001b[38;5;241m.\u001b[39m\u001b[38;5;18m__class__\u001b[39m\u001b[38;5;241m.\u001b[39m\u001b[38;5;18m__name__\u001b[39m\u001b[38;5;132;01m}\u001b[39;00m\u001b[38;5;124m \u001b[39m\u001b[38;5;124m\"\u001b[39m\n\u001b[0;32m    402\u001b[0m         \u001b[38;5;124mf\u001b[39m\u001b[38;5;124m\"\u001b[39m\u001b[38;5;124mis expecting \u001b[39m\u001b[38;5;132;01m{\u001b[39;00m\u001b[38;5;28mself\u001b[39m\u001b[38;5;241m.\u001b[39mn_features_in_\u001b[38;5;132;01m}\u001b[39;00m\u001b[38;5;124m features as input.\u001b[39m\u001b[38;5;124m\"\u001b[39m\n\u001b[0;32m    403\u001b[0m     )\n",
      "\u001b[1;31mValueError\u001b[0m: X has 144 features, but KMeans is expecting 143 features as input."
     ]
    }
   ],
   "source": [
    "test = simulate(df)"
   ]
  },
  {
   "cell_type": "code",
   "execution_count": 183,
   "id": "f020d91d-ca8b-4874-becd-106dd280938e",
   "metadata": {
    "execution": {
     "iopub.execute_input": "2022-12-05T15:47:25.657212Z",
     "iopub.status.busy": "2022-12-05T15:47:25.657212Z",
     "iopub.status.idle": "2022-12-05T15:47:25.676243Z",
     "shell.execute_reply": "2022-12-05T15:47:25.676243Z",
     "shell.execute_reply.started": "2022-12-05T15:47:25.657212Z"
    }
   },
   "outputs": [
    {
     "data": {
      "text/plain": [
       "[1.0,\n",
       " 0.656374685827508,\n",
       " 0.6064111337825762,\n",
       " 0.6203245203735714,\n",
       " 0.7492965710530859,\n",
       " 0.6689597002691922,\n",
       " 0.6024660266083472,\n",
       " 0.6958310772332513,\n",
       " 0.6853750684771488,\n",
       " 0.5873695116522157,\n",
       " 0.6921543902503632,\n",
       " 0.7188212059620668,\n",
       " 0.5926382861827043,\n",
       " 0.6024729206324954,\n",
       " 0.6177666766872831,\n",
       " 0.6374694203644474,\n",
       " 0.6436644987301812,\n",
       " 0.6240728777505888,\n",
       " 0.6189945192619432,\n",
       " 0.6294197567849525,\n",
       " 0.6760028495108734,\n",
       " 0.6101059121178811,\n",
       " 0.6424743087870853,\n",
       " 0.6829194352603556,\n",
       " 0.6254632646966881,\n",
       " 0.5659872368614667,\n",
       " 0.6131600229218473,\n",
       " 0.6145999964415111,\n",
       " 0.5820727142859331,\n",
       " 0.5872604282712546,\n",
       " 0.6131466628678117,\n",
       " 0.6128931741980895,\n",
       " 0.6282090938052544,\n",
       " 0.6259105407859926,\n",
       " 0.6081711889793595,\n",
       " 0.5890157279337813,\n",
       " 0.6045018363042657,\n",
       " 0.6277921500677737,\n",
       " 0.6364668551904273,\n",
       " 0.5980840829464263,\n",
       " 0.5980840829464263,\n",
       " 0.5971496208628116,\n",
       " 0.5971496208628116,\n",
       " 0.5971496208628116,\n",
       " 0.5971496208628116,\n",
       " 0.5971496208628116,\n",
       " 0.5971496208628116]"
      ]
     },
     "execution_count": 183,
     "metadata": {},
     "output_type": "execute_result"
    }
   ],
   "source": [
    "test"
   ]
  },
  {
   "cell_type": "code",
   "execution_count": 277,
   "id": "7cb7e539-b710-4562-a0a3-0dc948fe795b",
   "metadata": {
    "execution": {
     "iopub.execute_input": "2022-12-05T17:28:35.773275Z",
     "iopub.status.busy": "2022-12-05T17:28:35.773275Z",
     "iopub.status.idle": "2022-12-05T17:28:36.869357Z",
     "shell.execute_reply": "2022-12-05T17:28:36.869357Z",
     "shell.execute_reply.started": "2022-12-05T17:28:35.773275Z"
    },
    "tags": []
   },
   "outputs": [],
   "source": [
    "x = df\n",
    "start = x['days_since_order'].max()\n",
    "end = x['days_since_order'].min()\n",
    "year = start - 365\n",
    "t0 = x.loc[x['days_since_order'] < year ]\n",
    "t0 = feat_eng(t0)\n",
    "t0_s = rscaler.fit_transform(t0.values)\n",
    "clus = cluster.KMeans(n_clusters = 30,random_state=38)\n",
    "clus.fit(t0_s)\n",
    "true_labels = clus.labels_\n",
    "t0['true_labels'] = true_labels\n",
    "ari_l = []\n",
    "year_n = year\n",
    "t1 = x.loc[x['days_since_order'] < (year_n+7)]\n",
    "t1 = feat_eng(t1)\n",
    "t1_s = rscaler.fit_transform(t1.values)\n",
    "#clus_n = cluster.KMeans(n_clusters = 30,random_state=38)\n",
    "t1['true_labels'] = clus.predict(t1_s)\n",
    "clus2 = cluster.KMeans(n_clusters = 30,random_state=38)\n",
    "t1['pred_labels'] = clus2.fit_predict(t1_s)\n",
    "temp = pd.DataFrame(t0['true_labels']).join(t1['pred_labels'])\n",
    "ari_l.append(metrics.adjusted_rand_score(np.array(t1['pred_labels']),np.array(t1['true_labels'])))\n"
   ]
  },
  {
   "cell_type": "code",
   "execution_count": 278,
   "id": "a12fea1d-e76d-4e54-8d18-e575e51cf82c",
   "metadata": {
    "execution": {
     "iopub.execute_input": "2022-12-05T17:28:40.039400Z",
     "iopub.status.busy": "2022-12-05T17:28:40.039400Z",
     "iopub.status.idle": "2022-12-05T17:28:40.052417Z",
     "shell.execute_reply": "2022-12-05T17:28:40.052417Z",
     "shell.execute_reply.started": "2022-12-05T17:28:40.039400Z"
    },
    "tags": []
   },
   "outputs": [
    {
     "data": {
      "text/plain": [
       "[0.6566962990335874]"
      ]
     },
     "execution_count": 278,
     "metadata": {},
     "output_type": "execute_result"
    }
   ],
   "source": [
    "ari_l"
   ]
  },
  {
   "cell_type": "code",
   "execution_count": 199,
   "id": "b5489654-e458-4c87-892b-2b57b133d305",
   "metadata": {
    "execution": {
     "iopub.execute_input": "2022-12-05T16:22:33.005116Z",
     "iopub.status.busy": "2022-12-05T16:22:33.004119Z",
     "iopub.status.idle": "2022-12-05T16:22:33.078117Z",
     "shell.execute_reply": "2022-12-05T16:22:33.078117Z",
     "shell.execute_reply.started": "2022-12-05T16:22:33.005116Z"
    },
    "tags": []
   },
   "outputs": [
    {
     "data": {
      "text/plain": [
       "array([3, 1, 1, ..., 1, 1, 2])"
      ]
     },
     "execution_count": 199,
     "metadata": {},
     "output_type": "execute_result"
    }
   ],
   "source": [
    "clus.predict(t0_s)"
   ]
  },
  {
   "cell_type": "code",
   "execution_count": 200,
   "id": "18c41d11-4727-4858-9b9f-fa409b080fef",
   "metadata": {
    "execution": {
     "iopub.execute_input": "2022-12-05T16:22:34.740116Z",
     "iopub.status.busy": "2022-12-05T16:22:34.740116Z",
     "iopub.status.idle": "2022-12-05T16:22:34.791116Z",
     "shell.execute_reply": "2022-12-05T16:22:34.791116Z",
     "shell.execute_reply.started": "2022-12-05T16:22:34.740116Z"
    },
    "tags": []
   },
   "outputs": [
    {
     "data": {
      "text/plain": [
       "array([3, 1, 1, ..., 1, 1, 2])"
      ]
     },
     "execution_count": 200,
     "metadata": {},
     "output_type": "execute_result"
    }
   ],
   "source": [
    "clus.predict(t1_s)"
   ]
  },
  {
   "cell_type": "code",
   "execution_count": 201,
   "id": "a401bc3e-d25f-479d-8b77-8fc6cc6a4aeb",
   "metadata": {
    "execution": {
     "iopub.execute_input": "2022-12-05T16:22:36.853117Z",
     "iopub.status.busy": "2022-12-05T16:22:36.853117Z",
     "iopub.status.idle": "2022-12-05T16:22:36.944114Z",
     "shell.execute_reply": "2022-12-05T16:22:36.944114Z",
     "shell.execute_reply.started": "2022-12-05T16:22:36.853117Z"
    },
    "tags": []
   },
   "outputs": [
    {
     "data": {
      "text/plain": [
       "array([0, 3, 3, ..., 3, 3, 3])"
      ]
     },
     "execution_count": 201,
     "metadata": {},
     "output_type": "execute_result"
    }
   ],
   "source": [
    "clus2.fit_predict(t1_s)"
   ]
  },
  {
   "cell_type": "code",
   "execution_count": 103,
   "id": "dbe0c67c-a0be-484a-ae3c-8355c9811507",
   "metadata": {
    "execution": {
     "iopub.execute_input": "2022-12-05T14:49:19.369684Z",
     "iopub.status.busy": "2022-12-05T14:49:19.368716Z",
     "iopub.status.idle": "2022-12-05T14:49:19.378683Z",
     "shell.execute_reply": "2022-12-05T14:49:19.377683Z",
     "shell.execute_reply.started": "2022-12-05T14:49:19.368716Z"
    },
    "tags": []
   },
   "outputs": [
    {
     "data": {
      "text/plain": [
       "array([ 2, 29,  7, ..., 16, 23, 20])"
      ]
     },
     "execution_count": 103,
     "metadata": {},
     "output_type": "execute_result"
    }
   ],
   "source": [
    "prout = pd.DataFrame(t0['labels']).join(t1['labels_p'])\n",
    "np.array(prout['labels'])"
   ]
  },
  {
   "cell_type": "code",
   "execution_count": 129,
   "id": "565fe234-7c91-49d2-b088-d02f7ac66248",
   "metadata": {
    "execution": {
     "iopub.execute_input": "2022-12-05T15:03:31.260420Z",
     "iopub.status.busy": "2022-12-05T15:03:31.259393Z",
     "iopub.status.idle": "2022-12-05T15:03:31.277394Z",
     "shell.execute_reply": "2022-12-05T15:03:31.277394Z",
     "shell.execute_reply.started": "2022-12-05T15:03:31.260420Z"
    },
    "tags": []
   },
   "outputs": [],
   "source": [
    "def expl(md_df,name):\n",
    "    n_order_m = md_df.describe().iloc[1,0]\n",
    "    payment_m = md_df.describe().iloc[1,1]\n",
    "    rev_m_m = md_df.describe().iloc[1,-6]\n",
    "    age_m = md_df.describe().iloc[1,-3]\n",
    "    #build the explanatory df\n",
    "    expl_df = pd.DataFrame()\n",
    "    #first the frequence of the clusters\n",
    "    expl_df['freq'] = md_df.groupby(name).n_order.count()\n",
    "    expl_df['freq'] = round((expl_df['freq']/md_df.shape[0])*100,2)\n",
    "    #the mean ,ratio and max of the number of order\n",
    "    expl_df['n_order_mean'] = md_df.groupby(name).n_order.agg('mean')\n",
    "    expl_df['n_order_ratio'] = round(expl_df['n_order_mean']/n_order_m,2)\n",
    "    expl_df['n_order_max'] = md_df.groupby(name).n_order.agg('max')\n",
    "    #the mean and the ratio of the mean of payment\n",
    "    expl_df['payment_m_m'] = md_df.groupby(name).payment_mean.agg('mean')\n",
    "    expl_df['payment_m_r'] = round(expl_df['payment_m_m']/payment_m,2)\n",
    "    #the mean and ratio of the mean of review score\n",
    "    expl_df['rev_m_m'] = md_df.groupby(name).rev_mean.agg('mean')\n",
    "    expl_df['rev_ratio'] =round(expl_df['rev_m_m']/rev_m_m,2)\n",
    "    #the mean and ratio of the age of each cluster\n",
    "    expl_df['age_m_m'] = md_df.groupby(name).age.agg('mean')\n",
    "    expl_df['age_ratio'] =round(expl_df['age_m_m']/age_m,2)\n",
    "    #the top2 payment bucket for each cluster\n",
    "    temp = pd.DataFrame(md_df.groupby(name).mean())\n",
    "    temp = temp.iloc[:,3:18]\n",
    "    temp2 = temp.T\n",
    "\n",
    "    top1=[]\n",
    "    top2=[]\n",
    "    for i in range(temp2.shape[1]):    \n",
    "        val = list(round(temp2.iloc[:,i].nlargest(2),2))\n",
    "        cat = list(temp2.iloc[:,i].nlargest(2).index)\n",
    "        cat_top2 = dict(zip(cat, val))\n",
    "        cat_list = []\n",
    "        for y in cat_top2:\n",
    "            cat_list.append(str(y)+':'+str(cat_top2[y]))\n",
    "        top1.append(cat_list[0])\n",
    "        top2.append(cat_list[1])\n",
    "   \n",
    "       \n",
    "    expl_df = expl_df.join(pd.DataFrame({'top1_pay' : top1, 'top2_pay' : top2}))\n",
    "    #the top2 categories for each cluster\n",
    "    temp = pd.DataFrame(md_df.groupby(name).mean())\n",
    "    temp = temp.iloc[:,18:-5]\n",
    "    temp2 = temp.T\n",
    "\n",
    "    top1=[]\n",
    "    top2=[]\n",
    "    for i in range(temp2.shape[1]):    \n",
    "        val = list(round(temp2.iloc[:,i].nlargest(2),2))\n",
    "        cat = list(temp2.iloc[:,i].nlargest(2).index)\n",
    "        cat_top2 = dict(zip(cat, val))\n",
    "        cat_list = []\n",
    "        for y in cat_top2:\n",
    "            cat_list.append(str(y)+':'+str(cat_top2[y]))\n",
    "        top1.append(cat_list[0])\n",
    "        top2.append(cat_list[1])\n",
    "   \n",
    "       \n",
    "    expl_df = expl_df.join(pd.DataFrame({'top1_cat' : top1, 'top2_cat' : top2}))\n",
    "\n",
    "    return expl_df"
   ]
  },
  {
   "cell_type": "code",
   "execution_count": 279,
   "id": "d299909d-cfea-45e8-b43b-a75485a9c76b",
   "metadata": {
    "execution": {
     "iopub.execute_input": "2022-12-05T17:28:48.247257Z",
     "iopub.status.busy": "2022-12-05T17:28:48.247257Z",
     "iopub.status.idle": "2022-12-05T17:28:49.073922Z",
     "shell.execute_reply": "2022-12-05T17:28:49.073922Z",
     "shell.execute_reply.started": "2022-12-05T17:28:48.247257Z"
    },
    "tags": []
   },
   "outputs": [],
   "source": [
    "lala = pd.DataFrame(expl(t1,'true_labels').sort_values(by='payment_m_m').reset_index())\n"
   ]
  },
  {
   "cell_type": "code",
   "execution_count": 280,
   "id": "ef355b5d-569e-454e-8e3d-7ad218f6a40d",
   "metadata": {
    "execution": {
     "iopub.execute_input": "2022-12-05T17:28:58.054640Z",
     "iopub.status.busy": "2022-12-05T17:28:58.054640Z",
     "iopub.status.idle": "2022-12-05T17:28:58.064668Z",
     "shell.execute_reply": "2022-12-05T17:28:58.064668Z",
     "shell.execute_reply.started": "2022-12-05T17:28:58.054640Z"
    },
    "tags": []
   },
   "outputs": [],
   "source": [
    "prout = dict(zip(lala['true_labels'],lala.index))"
   ]
  },
  {
   "cell_type": "code",
   "execution_count": 282,
   "id": "b27f90ad-b415-4970-882f-940bf812f7a2",
   "metadata": {
    "execution": {
     "iopub.execute_input": "2022-12-05T17:29:16.980246Z",
     "iopub.status.busy": "2022-12-05T17:29:16.980246Z",
     "iopub.status.idle": "2022-12-05T17:29:16.989247Z",
     "shell.execute_reply": "2022-12-05T17:29:16.989247Z",
     "shell.execute_reply.started": "2022-12-05T17:29:16.980246Z"
    },
    "tags": []
   },
   "outputs": [],
   "source": [
    "t1['true_labels'] = t1['true_labels'].replace(prout)\n"
   ]
  },
  {
   "cell_type": "code",
   "execution_count": 270,
   "id": "555845e6-44a5-4248-b4c4-0195a6d8b7b6",
   "metadata": {
    "execution": {
     "iopub.execute_input": "2022-12-05T17:26:04.035176Z",
     "iopub.status.busy": "2022-12-05T17:26:04.035176Z",
     "iopub.status.idle": "2022-12-05T17:26:04.045174Z",
     "shell.execute_reply": "2022-12-05T17:26:04.045174Z",
     "shell.execute_reply.started": "2022-12-05T17:26:04.035176Z"
    },
    "tags": []
   },
   "outputs": [
    {
     "data": {
      "text/plain": [
       "6204c4e582a95b6a350adf6988623bfb    0\n",
       "d3581765bcf955dcf282b1642c74157c    3\n",
       "35ecdf6858edc6427223b64804cf028e    3\n",
       "8004f80e361a5ee23aadb7418a685fc2    3\n",
       "0697142614905a50813d854fa08b8eaf    2\n",
       "                                   ..\n",
       "72e05cde2a8e5d8f08ca3ef3bcfadc63    3\n",
       "24fc2d6f4c3339820a1a3746a125f8c5    0\n",
       "47a71b49f98984efd3c62cb213f977e8    3\n",
       "2fc5e667ccf2a1c87a798be23f1c920a    3\n",
       "acc4424c209233de519e034152f30304    4\n",
       "Name: true_labels, Length: 1612, dtype: int32"
      ]
     },
     "execution_count": 270,
     "metadata": {},
     "output_type": "execute_result"
    }
   ],
   "source": [
    "t1['true_labels']"
   ]
  },
  {
   "cell_type": "code",
   "execution_count": 283,
   "id": "472e755d-cb4f-4cc5-93a0-0d9c703854ae",
   "metadata": {
    "execution": {
     "iopub.execute_input": "2022-12-05T17:29:22.854660Z",
     "iopub.status.busy": "2022-12-05T17:29:22.854660Z",
     "iopub.status.idle": "2022-12-05T17:29:23.682256Z",
     "shell.execute_reply": "2022-12-05T17:29:23.682256Z",
     "shell.execute_reply.started": "2022-12-05T17:29:22.854660Z"
    },
    "tags": []
   },
   "outputs": [],
   "source": [
    "lala2 = pd.DataFrame(expl(t1,'pred_labels').sort_values(by='payment_m_m').reset_index())\n"
   ]
  },
  {
   "cell_type": "code",
   "execution_count": 272,
   "id": "5eb9ff7b-2f7e-4037-99f0-318b66dc815e",
   "metadata": {
    "execution": {
     "iopub.execute_input": "2022-12-05T17:26:20.783957Z",
     "iopub.status.busy": "2022-12-05T17:26:20.783957Z",
     "iopub.status.idle": "2022-12-05T17:26:20.800988Z",
     "shell.execute_reply": "2022-12-05T17:26:20.800988Z",
     "shell.execute_reply.started": "2022-12-05T17:26:20.783957Z"
    },
    "tags": []
   },
   "outputs": [
    {
     "data": {
      "text/plain": [
       "6204c4e582a95b6a350adf6988623bfb    0\n",
       "d3581765bcf955dcf282b1642c74157c    3\n",
       "35ecdf6858edc6427223b64804cf028e    3\n",
       "8004f80e361a5ee23aadb7418a685fc2    3\n",
       "0697142614905a50813d854fa08b8eaf    1\n",
       "                                   ..\n",
       "72e05cde2a8e5d8f08ca3ef3bcfadc63    3\n",
       "24fc2d6f4c3339820a1a3746a125f8c5    0\n",
       "47a71b49f98984efd3c62cb213f977e8    3\n",
       "2fc5e667ccf2a1c87a798be23f1c920a    3\n",
       "acc4424c209233de519e034152f30304    3\n",
       "Name: pred_labels, Length: 1612, dtype: int32"
      ]
     },
     "execution_count": 272,
     "metadata": {},
     "output_type": "execute_result"
    }
   ],
   "source": [
    "t1['pred_labels']"
   ]
  },
  {
   "cell_type": "code",
   "execution_count": 284,
   "id": "3c528b2a-f2c7-4dbc-b98a-6d9e2ec3924d",
   "metadata": {
    "execution": {
     "iopub.execute_input": "2022-12-05T17:29:28.201335Z",
     "iopub.status.busy": "2022-12-05T17:29:28.201335Z",
     "iopub.status.idle": "2022-12-05T17:29:28.214361Z",
     "shell.execute_reply": "2022-12-05T17:29:28.214361Z",
     "shell.execute_reply.started": "2022-12-05T17:29:28.201335Z"
    },
    "tags": []
   },
   "outputs": [],
   "source": [
    "prout2 = dict(zip(lala2['pred_labels'], lala2.index))\n"
   ]
  },
  {
   "cell_type": "code",
   "execution_count": 285,
   "id": "2f5174c2-7778-468f-850b-e23b611051e2",
   "metadata": {
    "execution": {
     "iopub.execute_input": "2022-12-05T17:29:38.046248Z",
     "iopub.status.busy": "2022-12-05T17:29:38.046248Z",
     "iopub.status.idle": "2022-12-05T17:29:38.057277Z",
     "shell.execute_reply": "2022-12-05T17:29:38.057277Z",
     "shell.execute_reply.started": "2022-12-05T17:29:38.046248Z"
    },
    "tags": []
   },
   "outputs": [],
   "source": [
    "t1['pred_labels'] = t1['pred_labels'].replace(prout2)\n"
   ]
  },
  {
   "cell_type": "code",
   "execution_count": 275,
   "id": "f0bd09dd-f7ed-482d-af20-e52bfd3b0e83",
   "metadata": {
    "execution": {
     "iopub.execute_input": "2022-12-05T17:26:59.593400Z",
     "iopub.status.busy": "2022-12-05T17:26:59.592401Z",
     "iopub.status.idle": "2022-12-05T17:26:59.612425Z",
     "shell.execute_reply": "2022-12-05T17:26:59.612425Z",
     "shell.execute_reply.started": "2022-12-05T17:26:59.593400Z"
    },
    "tags": []
   },
   "outputs": [
    {
     "data": {
      "text/plain": [
       "6204c4e582a95b6a350adf6988623bfb    0\n",
       "d3581765bcf955dcf282b1642c74157c    4\n",
       "35ecdf6858edc6427223b64804cf028e    4\n",
       "8004f80e361a5ee23aadb7418a685fc2    4\n",
       "0697142614905a50813d854fa08b8eaf    2\n",
       "                                   ..\n",
       "72e05cde2a8e5d8f08ca3ef3bcfadc63    4\n",
       "24fc2d6f4c3339820a1a3746a125f8c5    0\n",
       "47a71b49f98984efd3c62cb213f977e8    4\n",
       "2fc5e667ccf2a1c87a798be23f1c920a    4\n",
       "acc4424c209233de519e034152f30304    4\n",
       "Name: pred_labels, Length: 1612, dtype: int32"
      ]
     },
     "execution_count": 275,
     "metadata": {},
     "output_type": "execute_result"
    }
   ],
   "source": [
    "t1['pred_labels']"
   ]
  },
  {
   "cell_type": "code",
   "execution_count": 286,
   "id": "425f5239-985c-48dd-923a-14416a23469c",
   "metadata": {
    "execution": {
     "iopub.execute_input": "2022-12-05T17:29:41.980115Z",
     "iopub.status.busy": "2022-12-05T17:29:41.980115Z",
     "iopub.status.idle": "2022-12-05T17:29:41.997085Z",
     "shell.execute_reply": "2022-12-05T17:29:41.997085Z",
     "shell.execute_reply.started": "2022-12-05T17:29:41.980115Z"
    },
    "tags": []
   },
   "outputs": [
    {
     "data": {
      "text/plain": [
       "[0.6566962990335874]"
      ]
     },
     "execution_count": 286,
     "metadata": {},
     "output_type": "execute_result"
    }
   ],
   "source": [
    "ari_l = []\n",
    "ari_l.append(metrics.adjusted_rand_score(np.array(t1['true_labels']),np.array(t1['pred_labels'])))\n",
    "ari_l"
   ]
  },
  {
   "cell_type": "code",
   "execution_count": 41,
   "id": "7a108fe3-b78c-4b34-8383-ea11d205cd38",
   "metadata": {
    "execution": {
     "iopub.execute_input": "2022-12-05T14:19:14.897946Z",
     "iopub.status.busy": "2022-12-05T14:19:14.897946Z",
     "iopub.status.idle": "2022-12-05T14:19:14.915974Z",
     "shell.execute_reply": "2022-12-05T14:19:14.915974Z",
     "shell.execute_reply.started": "2022-12-05T14:19:14.897946Z"
    },
    "tags": []
   },
   "outputs": [],
   "source": [
    "\n",
    "df['order_dis'] = pd.cut(x['order_total'],30, duplicates = 'drop')"
   ]
  },
  {
   "cell_type": "code",
   "execution_count": 40,
   "id": "1a324ec8-5f99-4b59-ae52-72989517ca65",
   "metadata": {
    "execution": {
     "iopub.execute_input": "2022-12-05T14:19:08.441486Z",
     "iopub.status.busy": "2022-12-05T14:19:08.441486Z",
     "iopub.status.idle": "2022-12-05T14:19:08.459485Z",
     "shell.execute_reply": "2022-12-05T14:19:08.459485Z",
     "shell.execute_reply.started": "2022-12-05T14:19:08.441486Z"
    },
    "tags": []
   },
   "outputs": [
    {
     "name": "stdout",
     "output_type": "stream",
     "text": [
      "2254 1554 47\n"
     ]
    }
   ],
   "source": [
    "start = df['days_since_order'].max()\n",
    "end = df['days_since_order'].min()\n",
    "print(start, end, int(((start-365)-end)/7))\n"
   ]
  },
  {
   "cell_type": "code",
   "execution_count": 6,
   "id": "322954b6-5b6c-4498-8c18-124fdea99928",
   "metadata": {
    "execution": {
     "iopub.execute_input": "2022-12-05T13:32:15.416868Z",
     "iopub.status.busy": "2022-12-05T13:32:15.416868Z",
     "iopub.status.idle": "2022-12-05T13:32:15.434867Z",
     "shell.execute_reply": "2022-12-05T13:32:15.434867Z",
     "shell.execute_reply.started": "2022-12-05T13:32:15.416868Z"
    },
    "tags": []
   },
   "outputs": [
    {
     "data": {
      "text/plain": [
       "(3896, 7)"
      ]
     },
     "execution_count": 6,
     "metadata": {},
     "output_type": "execute_result"
    }
   ],
   "source": [
    "test = df.loc[df['days_since_order'] < (start-365) ]\n",
    "test.shape"
   ]
  },
  {
   "cell_type": "code",
   "execution_count": 12,
   "id": "522d754b-a903-4ee3-9f13-88a201df1c63",
   "metadata": {
    "execution": {
     "iopub.execute_input": "2022-12-05T13:33:39.425524Z",
     "iopub.status.busy": "2022-12-05T13:33:39.425524Z",
     "iopub.status.idle": "2022-12-05T13:33:39.805179Z",
     "shell.execute_reply": "2022-12-05T13:33:39.805179Z",
     "shell.execute_reply.started": "2022-12-05T13:33:39.425524Z"
    },
    "tags": []
   },
   "outputs": [
    {
     "name": "stderr",
     "output_type": "stream",
     "text": [
      "E:\\temp\\ipykernel_38228\\2128623664.py:16: SettingWithCopyWarning: \n",
      "A value is trying to be set on a copy of a slice from a DataFrame.\n",
      "Try using .loc[row_indexer,col_indexer] = value instead\n",
      "\n",
      "See the caveats in the documentation: https://pandas.pydata.org/pandas-docs/stable/user_guide/indexing.html#returning-a-view-versus-a-copy\n",
      "  x['order_dis'] = pd.cut(x['order_total'],30, duplicates = 'drop')\n"
     ]
    }
   ],
   "source": [
    "md_df = feat_eng(test)"
   ]
  },
  {
   "cell_type": "code",
   "execution_count": 13,
   "id": "b1d19e65-212c-4589-b34c-e4d66ef752a2",
   "metadata": {
    "execution": {
     "iopub.execute_input": "2022-12-05T13:33:41.457650Z",
     "iopub.status.busy": "2022-12-05T13:33:41.456649Z",
     "iopub.status.idle": "2022-12-05T13:33:41.468681Z",
     "shell.execute_reply": "2022-12-05T13:33:41.468681Z",
     "shell.execute_reply.started": "2022-12-05T13:33:41.457650Z"
    },
    "tags": []
   },
   "outputs": [
    {
     "data": {
      "text/plain": [
       "(1605, 139)"
      ]
     },
     "execution_count": 13,
     "metadata": {},
     "output_type": "execute_result"
    }
   ],
   "source": [
    "md_df.shape\n"
   ]
  },
  {
   "cell_type": "code",
   "execution_count": 14,
   "id": "ddcae440-bbad-4e35-a1ad-d401c8c8fe51",
   "metadata": {
    "execution": {
     "iopub.execute_input": "2022-12-05T13:33:44.392106Z",
     "iopub.status.busy": "2022-12-05T13:33:44.392106Z",
     "iopub.status.idle": "2022-12-05T13:33:44.405106Z",
     "shell.execute_reply": "2022-12-05T13:33:44.405106Z",
     "shell.execute_reply.started": "2022-12-05T13:33:44.392106Z"
    },
    "tags": []
   },
   "outputs": [
    {
     "data": {
      "text/plain": [
       "count    1605.000000\n",
       "mean        2.088474\n",
       "std         0.440639\n",
       "min         2.000000\n",
       "25%         2.000000\n",
       "50%         2.000000\n",
       "75%         2.000000\n",
       "max        10.000000\n",
       "Name: n_order, dtype: float64"
      ]
     },
     "execution_count": 14,
     "metadata": {},
     "output_type": "execute_result"
    }
   ],
   "source": [
    "md_df['n_order'].describe()"
   ]
  },
  {
   "cell_type": "code",
   "execution_count": null,
   "id": "138cdfe6-28d0-47bc-a1da-40d6d81e5d90",
   "metadata": {},
   "outputs": [],
   "source": []
  }
 ],
 "metadata": {
  "kernelspec": {
   "display_name": "Python 3 (ipykernel)",
   "language": "python",
   "name": "python3"
  },
  "language_info": {
   "codemirror_mode": {
    "name": "ipython",
    "version": 3
   },
   "file_extension": ".py",
   "mimetype": "text/x-python",
   "name": "python",
   "nbconvert_exporter": "python",
   "pygments_lexer": "ipython3",
   "version": "3.9.12"
  }
 },
 "nbformat": 4,
 "nbformat_minor": 5
}
