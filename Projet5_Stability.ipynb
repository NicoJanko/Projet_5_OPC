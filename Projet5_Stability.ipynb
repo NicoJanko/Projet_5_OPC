{
 "cells": [
  {
   "cell_type": "code",
   "execution_count": 1,
   "id": "e6dfe4c0-817b-4d54-a071-48badc175b71",
   "metadata": {
    "tags": []
   },
   "outputs": [],
   "source": [
    "import pandas as pd\n",
    "pd.options.mode.chained_assignment = None  # default='warn'\n",
    "import numpy as np\n",
    "import matplotlib.pyplot as plt\n",
    "import seaborn as sns\n",
    "import os"
   ]
  },
  {
   "cell_type": "code",
   "execution_count": 2,
   "id": "93fa413f-ff63-4253-b978-9bbaf48d4cb7",
   "metadata": {
    "tags": []
   },
   "outputs": [],
   "source": [
    "import time\n",
    "import datetime\n",
    "from sklearn import preprocessing\n",
    "from sklearn import cluster, metrics"
   ]
  },
  {
   "cell_type": "code",
   "execution_count": 3,
   "id": "b1ebb39a-167a-4e1f-8ffb-38a1cf536f6f",
   "metadata": {
    "tags": []
   },
   "outputs": [],
   "source": [
    "rscaler = preprocessing.RobustScaler()"
   ]
  },
  {
   "cell_type": "code",
   "execution_count": 4,
   "id": "d2364780-b157-4eae-9b1a-d242b783590e",
   "metadata": {
    "tags": []
   },
   "outputs": [
    {
     "data": {
      "text/plain": [
       "(5929, 7)"
      ]
     },
     "execution_count": 4,
     "metadata": {},
     "output_type": "execute_result"
    }
   ],
   "source": [
    "df = pd.read_csv('df.csv')\n",
    "df.shape"
   ]
  },
  {
   "cell_type": "code",
   "execution_count": 5,
   "id": "a7e3d9d8-db51-48fb-b989-94e040015089",
   "metadata": {
    "tags": []
   },
   "outputs": [],
   "source": [
    "def feat_eng(x,dataf):\n",
    "    #build the model x\n",
    "    y = pd.DataFrame(index = x['customer_unique_id'].unique())\n",
    "\n",
    "    #feature0  = number of order\n",
    "    y['n_order'] = x.groupby('customer_unique_id').order_id.count()\n",
    "\n",
    "    #feature1  = total value of orders\n",
    "    #y['payment_total'] = x.groupby('customer_unique_id').order_total.agg('sum')\n",
    "\n",
    "    #feature2-3  = mean and std of orders\n",
    "    y['payment_mean'] = x.groupby('customer_unique_id').order_total.agg('mean')\n",
    "    y['payment_std'] = x.groupby('customer_unique_id').order_total.agg('std')\n",
    "\n",
    "    #feature frequency4-10 of order on the distrib\n",
    "    x['order_dis'] = pd.cut(dataf['order_total'],30, duplicates = 'drop')\n",
    "    temp = pd.crosstab(x['customer_unique_id'], x['order_dis'], values = x['order_dis'], aggfunc= 'count', margins = True)\n",
    "    for i in range(temp.shape[1]):\n",
    "        temp.iloc[:,i] = round((temp.iloc[:,i]/temp.iloc[:,-1])*100,2)\n",
    "\n",
    "    temp = temp.drop(labels = 'All')\n",
    "    temp = temp.drop(labels = 'All', axis = 1)\n",
    "    y = y.join(temp)\n",
    "    #feature frequency11-135 of category\n",
    "    temp = pd.crosstab(x['customer_unique_id'], x['product_category_name'], values = x['product_category_name'], aggfunc= 'count', margins = True).fillna(0)\n",
    "    for i in range(temp.shape[1]):\n",
    "        temp.iloc[:,i] = round((temp.iloc[:,i]/temp.iloc[:,-1])*100,2)\n",
    "    temp = temp.drop(labels = 'All')\n",
    "    temp = temp.drop(labels = 'All', axis = 1)\n",
    "    y = y.join(temp)\n",
    "\n",
    "    #feature136-137 review score mean and std\n",
    "    y['rev_mean'] = x.groupby('customer_unique_id').review_score.agg('mean')\n",
    "    y['rev_std'] = x.groupby('customer_unique_id').review_score.agg('std')\n",
    "    #feature138  = days since last order\n",
    "    y['days_since_last_order'] = x.groupby('customer_unique_id').days_since_order.agg('min')\n",
    "    #feature139 = \"age\" of the custumer\n",
    "    y['age'] = x.groupby('customer_unique_id').days_since_order.agg('max')\n",
    "    y = y.loc[y['n_order'] > 1]\n",
    "    return y"
   ]
  },
  {
   "cell_type": "code",
   "execution_count": 13,
   "id": "1be7afd0-61f8-43bf-a920-fe904e79e536",
   "metadata": {
    "tags": []
   },
   "outputs": [],
   "source": [
    "def simulate(x):\n",
    "    start = x['days_since_order'].max()\n",
    "    end = x['days_since_order'].min()\n",
    "    year = start - 365 #define a year\n",
    "    t0 = x.loc[x['days_since_order'] > year ] #take only the first year customers\n",
    "    t0 = feat_eng(t0,x) #feature enginering\n",
    "    t0s = rscaler.fit_transform(t0.values)\n",
    "    clus = cluster.KMeans(n_clusters = 30,random_state=38)\n",
    "    clus.fit(t0s) # this is the T0 model Mt0\n",
    "    ari_l = []\n",
    "    year_n = year\n",
    "    for i in range(int((year-end)/30)): #go for per month test\n",
    "        tn = x.loc[x['days_since_order'] > year_n] # add a month of data\n",
    "        tn = feat_eng(tn,x) # feature engineering on the the new data\n",
    "        feat_diff = [x for x in list(t0.columns) + list(tn.columns) if x not in list(t0.columns) or x not in list(tn.columns)]\n",
    "        if feat_diff:\n",
    "            tn = tn.drop(labels = feat_diff, axis = 1) \n",
    "        tns = rscaler.fit_transform(tn.values)\n",
    "        clus2 = cluster.KMeans(n_clusters =30,random_state=38) #this is the Tn model Mtn\n",
    "        tn['pred_labels'] = clus2.fit_predict(tns) #predict Mt0(tn)\n",
    "        tn['true_labels'] = clus.predict(tns) # predict Mtn(tn)\n",
    "        ari_l.append(metrics.adjusted_rand_score(np.array(tn['true_labels']), np.array(tn['pred_labels']))) \n",
    "        year_n = year_n-30 #add another month\n",
    "    return ari_l"
   ]
  },
  {
   "cell_type": "code",
   "execution_count": 14,
   "id": "6462e08d-4869-4faa-aebd-d9fd5132a241",
   "metadata": {
    "tags": []
   },
   "outputs": [],
   "source": [
    "simu = simulate(df)"
   ]
  },
  {
   "cell_type": "code",
   "execution_count": 15,
   "id": "6d55d00f-9990-4782-96cd-e4dfb960c9be",
   "metadata": {
    "tags": []
   },
   "outputs": [
    {
     "data": {
      "image/png": "[encoded data removed]",
      "text/plain": [
       "<Figure size 576x576 with 1 Axes>"
      ]
     },
     "metadata": {
      "needs_background": "light"
     },
     "output_type": "display_data"
    }
   ],
   "source": [
    "fig,ax = plt.subplots(figsize = (8,8))\n",
    "ax.plot(np.arange(0,len(simu),1), simu, marker ='o')\n",
    "ax.plot(np.arange(0,len(simu),1), np.full(len(simu), 0.8), linestyle ='--')\n",
    "ax.set_ylim(bottom = 0.2)\n",
    "ax.set_title('Stabilité au cours du temps')\n",
    "ax.set_xlabel('Mois passé')\n",
    "ax.set_ylabel('Adjusted Rand Score vs T0')\n",
    "fig.savefig('stability.png', bbox_inches = 'tight')"
   ]
  },
  {
   "cell_type": "code",
   "execution_count": null,
   "id": "cfe1216b-921c-4f1d-9627-18441569b660",
   "metadata": {},
   "outputs": [],
   "source": []
  }
 ],
 "metadata": {
  "kernelspec": {
   "display_name": "Python 3 (ipykernel)",
   "language": "python",
   "name": "python3"
  },
  "language_info": {
   "codemirror_mode": {
    "name": "ipython",
    "version": 3
   },
   "file_extension": ".py",
   "mimetype": "text/x-python",
   "name": "python",
   "nbconvert_exporter": "python",
   "pygments_lexer": "ipython3",
   "version": "3.9.12"
  }
 },
 "nbformat": 4,
 "nbformat_minor": 5
}
