{
 "cells": [
  {
   "cell_type": "code",
   "execution_count": 1,
   "id": "e6dfe4c0-817b-4d54-a071-48badc175b71",
   "metadata": {
    "execution": {
     "iopub.execute_input": "2022-12-06T08:33:38.240762Z",
     "iopub.status.busy": "2022-12-06T08:33:38.240762Z",
     "iopub.status.idle": "2022-12-06T08:33:41.544416Z",
     "shell.execute_reply": "2022-12-06T08:33:41.541423Z",
     "shell.execute_reply.started": "2022-12-06T08:33:38.240762Z"
    },
    "tags": []
   },
   "outputs": [],
   "source": [
    "import pandas as pd\n",
    "pd.options.mode.chained_assignment = None  # default='warn'\n",
    "import numpy as np\n",
    "import matplotlib.pyplot as plt\n",
    "import seaborn as sns\n",
    "import os"
   ]
  },
  {
   "cell_type": "code",
   "execution_count": 2,
   "id": "93fa413f-ff63-4253-b978-9bbaf48d4cb7",
   "metadata": {
    "execution": {
     "iopub.execute_input": "2022-12-06T08:33:41.548372Z",
     "iopub.status.busy": "2022-12-06T08:33:41.546370Z",
     "iopub.status.idle": "2022-12-06T08:33:43.778644Z",
     "shell.execute_reply": "2022-12-06T08:33:43.778644Z",
     "shell.execute_reply.started": "2022-12-06T08:33:41.547375Z"
    }
   },
   "outputs": [],
   "source": [
    "import time\n",
    "import datetime\n",
    "from sklearn import preprocessing\n",
    "from sklearn import cluster, metrics"
   ]
  },
  {
   "cell_type": "code",
   "execution_count": 3,
   "id": "b1ebb39a-167a-4e1f-8ffb-38a1cf536f6f",
   "metadata": {
    "execution": {
     "iopub.execute_input": "2022-12-06T08:33:43.780564Z",
     "iopub.status.busy": "2022-12-06T08:33:43.780564Z",
     "iopub.status.idle": "2022-12-06T08:33:43.794565Z",
     "shell.execute_reply": "2022-12-06T08:33:43.793566Z",
     "shell.execute_reply.started": "2022-12-06T08:33:43.780564Z"
    }
   },
   "outputs": [],
   "source": [
    "rscaler = preprocessing.RobustScaler()"
   ]
  },
  {
   "cell_type": "code",
   "execution_count": 4,
   "id": "d2364780-b157-4eae-9b1a-d242b783590e",
   "metadata": {
    "execution": {
     "iopub.execute_input": "2022-12-06T08:33:43.795566Z",
     "iopub.status.busy": "2022-12-06T08:33:43.795566Z",
     "iopub.status.idle": "2022-12-06T08:33:43.840564Z",
     "shell.execute_reply": "2022-12-06T08:33:43.839565Z",
     "shell.execute_reply.started": "2022-12-06T08:33:43.795566Z"
    },
    "tags": []
   },
   "outputs": [
    {
     "data": {
      "text/plain": [
       "(5929, 7)"
      ]
     },
     "execution_count": 4,
     "metadata": {},
     "output_type": "execute_result"
    }
   ],
   "source": [
    "df = pd.read_csv('df.csv')\n",
    "df.shape"
   ]
  },
  {
   "cell_type": "code",
   "execution_count": 93,
   "id": "a7e3d9d8-db51-48fb-b989-94e040015089",
   "metadata": {
    "execution": {
     "iopub.execute_input": "2022-12-06T12:16:12.878889Z",
     "iopub.status.busy": "2022-12-06T12:16:12.877904Z",
     "iopub.status.idle": "2022-12-06T12:16:12.887892Z",
     "shell.execute_reply": "2022-12-06T12:16:12.887892Z",
     "shell.execute_reply.started": "2022-12-06T12:16:12.878889Z"
    },
    "tags": []
   },
   "outputs": [],
   "source": [
    "def feat_eng(x,dataf):\n",
    "    #build the model x\n",
    "    y = pd.DataFrame(index = x['customer_unique_id'].unique())\n",
    "\n",
    "    #feature0  = number of order\n",
    "    y['n_order'] = x.groupby('customer_unique_id').order_id.count()\n",
    "\n",
    "    #feature1  = total value of orders\n",
    "    #y['payment_total'] = x.groupby('customer_unique_id').order_total.agg('sum')\n",
    "\n",
    "    #feature2-3  = mean and std of orders\n",
    "    y['payment_mean'] = x.groupby('customer_unique_id').order_total.agg('mean')\n",
    "    y['payment_std'] = x.groupby('customer_unique_id').order_total.agg('std')\n",
    "\n",
    "    #feature frequency4-10 of order on the distrib\n",
    "    x['order_dis'] = pd.cut(dataf['order_total'],30, duplicates = 'drop')\n",
    "    temp = pd.crosstab(x['customer_unique_id'], x['order_dis'], values = x['order_dis'], aggfunc= 'count', margins = True)\n",
    "    for i in range(temp.shape[1]):\n",
    "        temp.iloc[:,i] = round((temp.iloc[:,i]/temp.iloc[:,-1])*100,2)\n",
    "\n",
    "    temp = temp.drop(labels = 'All')\n",
    "    temp = temp.drop(labels = 'All', axis = 1)\n",
    "    y = y.join(temp)\n",
    "    #feature frequency11-135 of category\n",
    "    temp = pd.crosstab(x['customer_unique_id'], x['product_category_name'], values = x['product_category_name'], aggfunc= 'count', margins = True).fillna(0)\n",
    "    for i in range(temp.shape[1]):\n",
    "        temp.iloc[:,i] = round((temp.iloc[:,i]/temp.iloc[:,-1])*100,2)\n",
    "    temp = temp.drop(labels = 'All')\n",
    "    temp = temp.drop(labels = 'All', axis = 1)\n",
    "    y = y.join(temp)\n",
    "\n",
    "    #feature136-137 review score mean and std\n",
    "    y['rev_mean'] = x.groupby('customer_unique_id').review_score.agg('mean')\n",
    "    y['rev_std'] = x.groupby('customer_unique_id').review_score.agg('std')\n",
    "    #feature138  = days since last order\n",
    "    y['days_since_last_order'] = x.groupby('customer_unique_id').days_since_order.agg('min')\n",
    "    #feature139 = \"age\" of the custumer\n",
    "    y['age'] = x.groupby('customer_unique_id').days_since_order.agg('max')\n",
    "    y = y.loc[y['n_order'] > 1]\n",
    "    return y"
   ]
  },
  {
   "cell_type": "code",
   "execution_count": 181,
   "id": "1be7afd0-61f8-43bf-a920-fe904e79e536",
   "metadata": {
    "execution": {
     "iopub.execute_input": "2022-12-06T12:53:37.840361Z",
     "iopub.status.busy": "2022-12-06T12:53:37.840361Z",
     "iopub.status.idle": "2022-12-06T12:53:37.850393Z",
     "shell.execute_reply": "2022-12-06T12:53:37.850393Z",
     "shell.execute_reply.started": "2022-12-06T12:53:37.840361Z"
    },
    "tags": []
   },
   "outputs": [],
   "source": [
    "def simulate(x):\n",
    "    start = x['days_since_order'].max()\n",
    "    end = x['days_since_order'].min()\n",
    "    year = start - 365\n",
    "    t0 = x.loc[x['days_since_order'] > year ]\n",
    "    t0 = feat_eng(t0,x)\n",
    "    t0s = rscaler.fit_transform(t0.values)\n",
    "    clus = cluster.KMeans(n_clusters = 50,random_state=38)\n",
    "    clus.fit(t0s)\n",
    "    ari_l = []\n",
    "    year_n = year\n",
    "    for i in range(int((year-end)/30)):\n",
    "        tn = x.loc[x['days_since_order'] > year_n]\n",
    "        tn = feat_eng(tn,x)\n",
    "        feat_diff = [x for x in list(t0.columns) + list(tn.columns) if x not in list(t0.columns) or x not in list(tn.columns)]\n",
    "        if feat_diff:\n",
    "            tn = tn.drop(labels = feat_diff, axis = 1)\n",
    "        tns = rscaler.fit_transform(tn.values)\n",
    "        clus2 = cluster.KMeans(n_clusters = 50,random_state=38)\n",
    "        tn['pred_labels'] = clus2.fit_predict(tns)\n",
    "        tn['true_labels'] = clus.predict(tns)\n",
    "        ari_l.append(metrics.adjusted_rand_score(np.array(tn['true_labels']), np.array(tn['pred_labels'])))\n",
    "        year_n = year_n-30\n",
    "    return ari_l"
   ]
  },
  {
   "cell_type": "code",
   "execution_count": 182,
   "id": "eee1eccd-c46f-4677-b8a4-4347170d5803",
   "metadata": {
    "execution": {
     "iopub.execute_input": "2022-12-06T12:53:38.807858Z",
     "iopub.status.busy": "2022-12-06T12:53:38.807858Z",
     "iopub.status.idle": "2022-12-06T12:53:38.815883Z",
     "shell.execute_reply": "2022-12-06T12:53:38.815883Z",
     "shell.execute_reply.started": "2022-12-06T12:53:38.807858Z"
    },
    "tags": []
   },
   "outputs": [
    {
     "data": {
      "text/plain": [
       "[4, 5]"
      ]
     },
     "execution_count": 182,
     "metadata": {},
     "output_type": "execute_result"
    }
   ],
   "source": [
    "a = [0,1,2,3]\n",
    "b = [0,1,2,3,4,5]\n",
    "c = [x for x in a + b if x not in a or x not in b]\n",
    "c"
   ]
  },
  {
   "cell_type": "code",
   "execution_count": 183,
   "id": "6462e08d-4869-4faa-aebd-d9fd5132a241",
   "metadata": {
    "execution": {
     "iopub.execute_input": "2022-12-06T12:53:38.973710Z",
     "iopub.status.busy": "2022-12-06T12:53:38.973710Z",
     "iopub.status.idle": "2022-12-06T12:53:45.865679Z",
     "shell.execute_reply": "2022-12-06T12:53:45.865679Z",
     "shell.execute_reply.started": "2022-12-06T12:53:38.973710Z"
    },
    "tags": []
   },
   "outputs": [],
   "source": [
    "test = simulate(df)"
   ]
  },
  {
   "cell_type": "code",
   "execution_count": 184,
   "id": "6d55d00f-9990-4782-96cd-e4dfb960c9be",
   "metadata": {
    "execution": {
     "iopub.execute_input": "2022-12-06T12:53:45.866680Z",
     "iopub.status.busy": "2022-12-06T12:53:45.866680Z",
     "iopub.status.idle": "2022-12-06T12:53:46.039685Z",
     "shell.execute_reply": "2022-12-06T12:53:46.038768Z",
     "shell.execute_reply.started": "2022-12-06T12:53:45.866680Z"
    },
    "tags": []
   },
   "outputs": [
    {
     "data": {
      "image/png": "[encoded data removed]",
      "text/plain": [
       "<Figure size 576x576 with 1 Axes>"
      ]
     },
     "metadata": {
      "needs_background": "light"
     },
     "output_type": "display_data"
    }
   ],
   "source": [
    "fig,ax = plt.subplots(figsize = (8,8))\n",
    "ax.plot(np.arange(0,len(test),1), test, marker ='o')\n",
    "ax.set_ylim(bottom = 0.2)\n",
    "fig.savefig('stability.png', bbox_inches = 'tight')"
   ]
  },
  {
   "cell_type": "code",
   "execution_count": 136,
   "id": "7cb7e539-b710-4562-a0a3-0dc948fe795b",
   "metadata": {
    "execution": {
     "iopub.execute_input": "2022-12-06T12:28:02.078451Z",
     "iopub.status.busy": "2022-12-06T12:28:02.078451Z",
     "iopub.status.idle": "2022-12-06T12:28:02.883429Z",
     "shell.execute_reply": "2022-12-06T12:28:02.883429Z",
     "shell.execute_reply.started": "2022-12-06T12:28:02.078451Z"
    },
    "tags": []
   },
   "outputs": [],
   "source": [
    "x = df\n",
    "start = x['days_since_order'].max()\n",
    "end = x['days_since_order'].min()\n",
    "year = start - 365\n",
    "t0 = x.loc[x['days_since_order'] > year ]\n",
    "t0 = feat_eng(t0,df)\n",
    "t0_s = rscaler.fit_transform(t0.values)\n",
    "clus = cluster.KMeans(n_clusters = 40,random_state=38)\n",
    "clus.fit(t0_s)\n",
    "true_labels = clus.labels_\n",
    "t0['true_labels'] = true_labels\n",
    "ari_l = []\n",
    "year_n = year\n",
    "t1 = x.loc[x['days_since_order'] > (year_n-7)]\n",
    "t1 = feat_eng(t1,df)\n",
    "t1_s = rscaler.fit_transform(t1.values)\n",
    "#clus_n = cluster.KMeans(n_clusters = 30,random_state=38)\n",
    "t1['true_labels'] = clus.predict(t1_s)\n",
    "clus2 = cluster.KMeans(n_clusters = 40,random_state=38)\n",
    "t1['pred_labels'] = clus2.fit_predict(t1_s)\n",
    "temp = pd.DataFrame(t0['true_labels']).join(t1['pred_labels'])\n",
    "ari_l.append(metrics.adjusted_rand_score(np.array(t1['pred_labels']),np.array(t1['true_labels'])))\n"
   ]
  },
  {
   "cell_type": "code",
   "execution_count": 137,
   "id": "a4748246-faf6-4133-ab7b-312a2747bec1",
   "metadata": {
    "execution": {
     "iopub.execute_input": "2022-12-06T12:28:03.302434Z",
     "iopub.status.busy": "2022-12-06T12:28:03.302434Z",
     "iopub.status.idle": "2022-12-06T12:28:03.314433Z",
     "shell.execute_reply": "2022-12-06T12:28:03.313433Z",
     "shell.execute_reply.started": "2022-12-06T12:28:03.302434Z"
    },
    "tags": []
   },
   "outputs": [
    {
     "data": {
      "text/plain": [
       "[0.8369368493790004]"
      ]
     },
     "execution_count": 137,
     "metadata": {},
     "output_type": "execute_result"
    }
   ],
   "source": [
    "ari_l"
   ]
  },
  {
   "cell_type": "code",
   "execution_count": 126,
   "id": "4b85579d-5231-49bc-be5a-8829563eb55c",
   "metadata": {
    "execution": {
     "iopub.execute_input": "2022-12-06T12:26:35.652309Z",
     "iopub.status.busy": "2022-12-06T12:26:35.651282Z",
     "iopub.status.idle": "2022-12-06T12:26:35.657307Z",
     "shell.execute_reply": "2022-12-06T12:26:35.657307Z",
     "shell.execute_reply.started": "2022-12-06T12:26:35.652309Z"
    },
    "tags": []
   },
   "outputs": [],
   "source": [
    "x = df\n",
    "t0 = x.loc[x['days_since_order'] > year ]\n",
    "t1 = x.loc[x['days_since_order'] > (year_n-1)]"
   ]
  },
  {
   "cell_type": "code",
   "execution_count": 127,
   "id": "a12fea1d-e76d-4e54-8d18-e575e51cf82c",
   "metadata": {
    "execution": {
     "iopub.execute_input": "2022-12-06T12:26:36.282526Z",
     "iopub.status.busy": "2022-12-06T12:26:36.282526Z",
     "iopub.status.idle": "2022-12-06T12:26:36.297497Z",
     "shell.execute_reply": "2022-12-06T12:26:36.297497Z",
     "shell.execute_reply.started": "2022-12-06T12:26:36.282526Z"
    },
    "tags": []
   },
   "outputs": [
    {
     "name": "stdout",
     "output_type": "stream",
     "text": [
      "<class 'pandas.core.frame.DataFrame'>\n",
      "Int64Index: 2022 entries, 0 to 5928\n",
      "Data columns (total 8 columns):\n",
      " #   Column                    Non-Null Count  Dtype   \n",
      "---  ------                    --------------  -----   \n",
      " 0   customer_unique_id        2022 non-null   object  \n",
      " 1   order_id                  2022 non-null   object  \n",
      " 2   order_purchase_timestamp  2022 non-null   object  \n",
      " 3   order_total               2022 non-null   float64 \n",
      " 4   days_since_order          2022 non-null   int64   \n",
      " 5   review_score              2022 non-null   float64 \n",
      " 6   product_category_name     2022 non-null   object  \n",
      " 7   order_dis                 2022 non-null   category\n",
      "dtypes: category(1), float64(2), int64(1), object(4)\n",
      "memory usage: 130.9+ KB\n"
     ]
    }
   ],
   "source": [
    "t0.info()"
   ]
  },
  {
   "cell_type": "code",
   "execution_count": 128,
   "id": "741cfc54-17cb-407d-b712-523fbf483939",
   "metadata": {
    "execution": {
     "iopub.execute_input": "2022-12-06T12:26:37.013199Z",
     "iopub.status.busy": "2022-12-06T12:26:37.013199Z",
     "iopub.status.idle": "2022-12-06T12:26:37.043224Z",
     "shell.execute_reply": "2022-12-06T12:26:37.043224Z",
     "shell.execute_reply.started": "2022-12-06T12:26:37.013199Z"
    },
    "tags": []
   },
   "outputs": [
    {
     "name": "stdout",
     "output_type": "stream",
     "text": [
      "<class 'pandas.core.frame.DataFrame'>\n",
      "Int64Index: 2041 entries, 0 to 5928\n",
      "Data columns (total 8 columns):\n",
      " #   Column                    Non-Null Count  Dtype   \n",
      "---  ------                    --------------  -----   \n",
      " 0   customer_unique_id        2041 non-null   object  \n",
      " 1   order_id                  2041 non-null   object  \n",
      " 2   order_purchase_timestamp  2041 non-null   object  \n",
      " 3   order_total               2041 non-null   float64 \n",
      " 4   days_since_order          2041 non-null   int64   \n",
      " 5   review_score              2041 non-null   float64 \n",
      " 6   product_category_name     2041 non-null   object  \n",
      " 7   order_dis                 2041 non-null   category\n",
      "dtypes: category(1), float64(2), int64(1), object(4)\n",
      "memory usage: 132.1+ KB\n"
     ]
    }
   ],
   "source": [
    "t1.info()"
   ]
  },
  {
   "cell_type": "code",
   "execution_count": 114,
   "id": "b5489654-e458-4c87-892b-2b57b133d305",
   "metadata": {
    "execution": {
     "iopub.execute_input": "2022-12-06T12:23:34.317106Z",
     "iopub.status.busy": "2022-12-06T12:23:34.317106Z",
     "iopub.status.idle": "2022-12-06T12:23:34.365105Z",
     "shell.execute_reply": "2022-12-06T12:23:34.365105Z",
     "shell.execute_reply.started": "2022-12-06T12:23:34.317106Z"
    },
    "tags": []
   },
   "outputs": [
    {
     "data": {
      "text/plain": [
       "array([ 4, 15,  3, ..., 23,  8, 27])"
      ]
     },
     "execution_count": 114,
     "metadata": {},
     "output_type": "execute_result"
    }
   ],
   "source": [
    "clus.predict(t0_s)"
   ]
  },
  {
   "cell_type": "code",
   "execution_count": 115,
   "id": "18c41d11-4727-4858-9b9f-fa409b080fef",
   "metadata": {
    "execution": {
     "iopub.execute_input": "2022-12-06T12:23:35.899712Z",
     "iopub.status.busy": "2022-12-06T12:23:35.899712Z",
     "iopub.status.idle": "2022-12-06T12:23:35.955709Z",
     "shell.execute_reply": "2022-12-06T12:23:35.955709Z",
     "shell.execute_reply.started": "2022-12-06T12:23:35.899712Z"
    },
    "tags": []
   },
   "outputs": [
    {
     "data": {
      "text/plain": [
       "array([ 4, 15,  3, ..., 23,  8, 27])"
      ]
     },
     "execution_count": 115,
     "metadata": {},
     "output_type": "execute_result"
    }
   ],
   "source": [
    "clus.predict(t1_s)"
   ]
  },
  {
   "cell_type": "code",
   "execution_count": 116,
   "id": "a401bc3e-d25f-479d-8b77-8fc6cc6a4aeb",
   "metadata": {
    "execution": {
     "iopub.execute_input": "2022-12-06T12:23:37.075540Z",
     "iopub.status.busy": "2022-12-06T12:23:37.075540Z",
     "iopub.status.idle": "2022-12-06T12:23:37.215509Z",
     "shell.execute_reply": "2022-12-06T12:23:37.215509Z",
     "shell.execute_reply.started": "2022-12-06T12:23:37.075540Z"
    },
    "tags": []
   },
   "outputs": [
    {
     "data": {
      "text/plain": [
       "array([ 4, 10,  5, ..., 21, 23, 23])"
      ]
     },
     "execution_count": 116,
     "metadata": {},
     "output_type": "execute_result"
    }
   ],
   "source": [
    "clus2.fit_predict(t1_s)"
   ]
  },
  {
   "cell_type": "code",
   "execution_count": 16,
   "id": "565fe234-7c91-49d2-b088-d02f7ac66248",
   "metadata": {
    "execution": {
     "iopub.execute_input": "2022-12-06T08:36:02.143124Z",
     "iopub.status.busy": "2022-12-06T08:36:02.142148Z",
     "iopub.status.idle": "2022-12-06T08:36:02.168121Z",
     "shell.execute_reply": "2022-12-06T08:36:02.168121Z",
     "shell.execute_reply.started": "2022-12-06T08:36:02.143124Z"
    },
    "tags": []
   },
   "outputs": [],
   "source": [
    "def expl(md_df,name):\n",
    "    n_order_m = md_df.describe().iloc[1,0]\n",
    "    payment_m = md_df.describe().iloc[1,1]\n",
    "    rev_m_m = md_df.describe().iloc[1,-6]\n",
    "    age_m = md_df.describe().iloc[1,-3]\n",
    "    #build the explanatory df\n",
    "    expl_df = pd.DataFrame()\n",
    "    #first the frequence of the clusters\n",
    "    expl_df['freq'] = md_df.groupby(name).n_order.count()\n",
    "    expl_df['freq'] = round((expl_df['freq']/md_df.shape[0])*100,2)\n",
    "    #the mean ,ratio and max of the number of order\n",
    "    expl_df['n_order_mean'] = md_df.groupby(name).n_order.agg('mean')\n",
    "    expl_df['n_order_ratio'] = round(expl_df['n_order_mean']/n_order_m,2)\n",
    "    expl_df['n_order_max'] = md_df.groupby(name).n_order.agg('max')\n",
    "    #the mean and the ratio of the mean of payment\n",
    "    expl_df['payment_m_m'] = md_df.groupby(name).payment_mean.agg('mean')\n",
    "    expl_df['payment_m_r'] = round(expl_df['payment_m_m']/payment_m,2)\n",
    "    #the mean and ratio of the mean of review score\n",
    "    expl_df['rev_m_m'] = md_df.groupby(name).rev_mean.agg('mean')\n",
    "    expl_df['rev_ratio'] =round(expl_df['rev_m_m']/rev_m_m,2)\n",
    "    #the mean and ratio of the age of each cluster\n",
    "    expl_df['age_m_m'] = md_df.groupby(name).age.agg('mean')\n",
    "    expl_df['age_ratio'] =round(expl_df['age_m_m']/age_m,2)\n",
    "    #the top2 payment bucket for each cluster\n",
    "    temp = pd.DataFrame(md_df.groupby(name).mean())\n",
    "    temp = temp.iloc[:,3:18]\n",
    "    temp2 = temp.T\n",
    "\n",
    "    top1=[]\n",
    "    top2=[]\n",
    "    for i in range(temp2.shape[1]):    \n",
    "        val = list(round(temp2.iloc[:,i].nlargest(2),2))\n",
    "        cat = list(temp2.iloc[:,i].nlargest(2).index)\n",
    "        cat_top2 = dict(zip(cat, val))\n",
    "        cat_list = []\n",
    "        for y in cat_top2:\n",
    "            cat_list.append(str(y)+':'+str(cat_top2[y]))\n",
    "        top1.append(cat_list[0])\n",
    "        top2.append(cat_list[1])\n",
    "   \n",
    "       \n",
    "    expl_df = expl_df.join(pd.DataFrame({'top1_pay' : top1, 'top2_pay' : top2}))\n",
    "    #the top2 categories for each cluster\n",
    "    temp = pd.DataFrame(md_df.groupby(name).mean())\n",
    "    temp = temp.iloc[:,18:-5]\n",
    "    temp2 = temp.T\n",
    "\n",
    "    top1=[]\n",
    "    top2=[]\n",
    "    for i in range(temp2.shape[1]):    \n",
    "        val = list(round(temp2.iloc[:,i].nlargest(2),2))\n",
    "        cat = list(temp2.iloc[:,i].nlargest(2).index)\n",
    "        cat_top2 = dict(zip(cat, val))\n",
    "        cat_list = []\n",
    "        for y in cat_top2:\n",
    "            cat_list.append(str(y)+':'+str(cat_top2[y]))\n",
    "        top1.append(cat_list[0])\n",
    "        top2.append(cat_list[1])\n",
    "   \n",
    "       \n",
    "    expl_df = expl_df.join(pd.DataFrame({'top1_cat' : top1, 'top2_cat' : top2}))\n",
    "\n",
    "    return expl_df"
   ]
  },
  {
   "cell_type": "code",
   "execution_count": 17,
   "id": "d299909d-cfea-45e8-b43b-a75485a9c76b",
   "metadata": {
    "execution": {
     "iopub.execute_input": "2022-12-06T08:36:10.856884Z",
     "iopub.status.busy": "2022-12-06T08:36:10.856884Z",
     "iopub.status.idle": "2022-12-06T08:36:11.705941Z",
     "shell.execute_reply": "2022-12-06T08:36:11.705941Z",
     "shell.execute_reply.started": "2022-12-06T08:36:10.856884Z"
    },
    "tags": []
   },
   "outputs": [],
   "source": [
    "lala = pd.DataFrame(expl(t1,'true_labels').sort_values(by='freq').reset_index())\n"
   ]
  },
  {
   "cell_type": "code",
   "execution_count": 18,
   "id": "ef355b5d-569e-454e-8e3d-7ad218f6a40d",
   "metadata": {
    "execution": {
     "iopub.execute_input": "2022-12-06T08:36:13.702248Z",
     "iopub.status.busy": "2022-12-06T08:36:13.702248Z",
     "iopub.status.idle": "2022-12-06T08:36:13.706248Z",
     "shell.execute_reply": "2022-12-06T08:36:13.706248Z",
     "shell.execute_reply.started": "2022-12-06T08:36:13.702248Z"
    },
    "tags": []
   },
   "outputs": [],
   "source": [
    "prout = dict(zip(lala['true_labels'],lala.index))"
   ]
  },
  {
   "cell_type": "code",
   "execution_count": 19,
   "id": "b27f90ad-b415-4970-882f-940bf812f7a2",
   "metadata": {
    "execution": {
     "iopub.execute_input": "2022-12-06T08:36:15.288107Z",
     "iopub.status.busy": "2022-12-06T08:36:15.288107Z",
     "iopub.status.idle": "2022-12-06T08:36:15.297101Z",
     "shell.execute_reply": "2022-12-06T08:36:15.297101Z",
     "shell.execute_reply.started": "2022-12-06T08:36:15.288107Z"
    },
    "tags": []
   },
   "outputs": [],
   "source": [
    "t1['true_labels'] = t1['true_labels'].replace(prout)\n"
   ]
  },
  {
   "cell_type": "code",
   "execution_count": 20,
   "id": "555845e6-44a5-4248-b4c4-0195a6d8b7b6",
   "metadata": {
    "execution": {
     "iopub.execute_input": "2022-12-06T08:36:15.935838Z",
     "iopub.status.busy": "2022-12-06T08:36:15.935838Z",
     "iopub.status.idle": "2022-12-06T08:36:15.948834Z",
     "shell.execute_reply": "2022-12-06T08:36:15.948834Z",
     "shell.execute_reply.started": "2022-12-06T08:36:15.935838Z"
    },
    "tags": []
   },
   "outputs": [
    {
     "data": {
      "text/plain": [
       "6204c4e582a95b6a350adf6988623bfb    25\n",
       "d3581765bcf955dcf282b1642c74157c     6\n",
       "35ecdf6858edc6427223b64804cf028e    16\n",
       "8004f80e361a5ee23aadb7418a685fc2    15\n",
       "0697142614905a50813d854fa08b8eaf    23\n",
       "                                    ..\n",
       "72e05cde2a8e5d8f08ca3ef3bcfadc63    10\n",
       "24fc2d6f4c3339820a1a3746a125f8c5    15\n",
       "47a71b49f98984efd3c62cb213f977e8    18\n",
       "2fc5e667ccf2a1c87a798be23f1c920a     9\n",
       "acc4424c209233de519e034152f30304    22\n",
       "Name: true_labels, Length: 1630, dtype: int32"
      ]
     },
     "execution_count": 20,
     "metadata": {},
     "output_type": "execute_result"
    }
   ],
   "source": [
    "t1['true_labels']"
   ]
  },
  {
   "cell_type": "code",
   "execution_count": 21,
   "id": "472e755d-cb4f-4cc5-93a0-0d9c703854ae",
   "metadata": {
    "execution": {
     "iopub.execute_input": "2022-12-06T08:36:26.009473Z",
     "iopub.status.busy": "2022-12-06T08:36:26.009473Z",
     "iopub.status.idle": "2022-12-06T08:36:26.862551Z",
     "shell.execute_reply": "2022-12-06T08:36:26.862551Z",
     "shell.execute_reply.started": "2022-12-06T08:36:26.009473Z"
    },
    "tags": []
   },
   "outputs": [],
   "source": [
    "lala2 = pd.DataFrame(expl(t1,'pred_labels').sort_values(by='freq').reset_index())\n"
   ]
  },
  {
   "cell_type": "code",
   "execution_count": 22,
   "id": "5eb9ff7b-2f7e-4037-99f0-318b66dc815e",
   "metadata": {
    "execution": {
     "iopub.execute_input": "2022-12-06T08:36:29.015015Z",
     "iopub.status.busy": "2022-12-06T08:36:29.015015Z",
     "iopub.status.idle": "2022-12-06T08:36:29.026014Z",
     "shell.execute_reply": "2022-12-06T08:36:29.026014Z",
     "shell.execute_reply.started": "2022-12-06T08:36:29.015015Z"
    },
    "tags": []
   },
   "outputs": [
    {
     "data": {
      "text/plain": [
       "6204c4e582a95b6a350adf6988623bfb    18\n",
       "d3581765bcf955dcf282b1642c74157c    19\n",
       "35ecdf6858edc6427223b64804cf028e    22\n",
       "8004f80e361a5ee23aadb7418a685fc2     2\n",
       "0697142614905a50813d854fa08b8eaf     3\n",
       "                                    ..\n",
       "72e05cde2a8e5d8f08ca3ef3bcfadc63    10\n",
       "24fc2d6f4c3339820a1a3746a125f8c5     2\n",
       "47a71b49f98984efd3c62cb213f977e8    13\n",
       "2fc5e667ccf2a1c87a798be23f1c920a    26\n",
       "acc4424c209233de519e034152f30304     4\n",
       "Name: pred_labels, Length: 1630, dtype: int32"
      ]
     },
     "execution_count": 22,
     "metadata": {},
     "output_type": "execute_result"
    }
   ],
   "source": [
    "t1['pred_labels']"
   ]
  },
  {
   "cell_type": "code",
   "execution_count": 23,
   "id": "3c528b2a-f2c7-4dbc-b98a-6d9e2ec3924d",
   "metadata": {
    "execution": {
     "iopub.execute_input": "2022-12-06T08:36:33.703585Z",
     "iopub.status.busy": "2022-12-06T08:36:33.703585Z",
     "iopub.status.idle": "2022-12-06T08:36:33.706585Z",
     "shell.execute_reply": "2022-12-06T08:36:33.706585Z",
     "shell.execute_reply.started": "2022-12-06T08:36:33.703585Z"
    },
    "tags": []
   },
   "outputs": [],
   "source": [
    "prout2 = dict(zip(lala2['pred_labels'], lala2.index))\n"
   ]
  },
  {
   "cell_type": "code",
   "execution_count": 24,
   "id": "2f5174c2-7778-468f-850b-e23b611051e2",
   "metadata": {
    "execution": {
     "iopub.execute_input": "2022-12-06T08:36:34.274345Z",
     "iopub.status.busy": "2022-12-06T08:36:34.274345Z",
     "iopub.status.idle": "2022-12-06T08:36:34.281372Z",
     "shell.execute_reply": "2022-12-06T08:36:34.281372Z",
     "shell.execute_reply.started": "2022-12-06T08:36:34.274345Z"
    },
    "tags": []
   },
   "outputs": [],
   "source": [
    "t1['pred_labels'] = t1['pred_labels'].replace(prout2)\n"
   ]
  },
  {
   "cell_type": "code",
   "execution_count": 25,
   "id": "f0bd09dd-f7ed-482d-af20-e52bfd3b0e83",
   "metadata": {
    "execution": {
     "iopub.execute_input": "2022-12-06T08:36:34.709528Z",
     "iopub.status.busy": "2022-12-06T08:36:34.709528Z",
     "iopub.status.idle": "2022-12-06T08:36:34.726535Z",
     "shell.execute_reply": "2022-12-06T08:36:34.726535Z",
     "shell.execute_reply.started": "2022-12-06T08:36:34.709528Z"
    },
    "tags": []
   },
   "outputs": [
    {
     "data": {
      "text/plain": [
       "6204c4e582a95b6a350adf6988623bfb    28\n",
       "d3581765bcf955dcf282b1642c74157c     5\n",
       "35ecdf6858edc6427223b64804cf028e    17\n",
       "8004f80e361a5ee23aadb7418a685fc2    18\n",
       "0697142614905a50813d854fa08b8eaf    24\n",
       "                                    ..\n",
       "72e05cde2a8e5d8f08ca3ef3bcfadc63    11\n",
       "24fc2d6f4c3339820a1a3746a125f8c5    18\n",
       "47a71b49f98984efd3c62cb213f977e8    14\n",
       "2fc5e667ccf2a1c87a798be23f1c920a    13\n",
       "acc4424c209233de519e034152f30304    23\n",
       "Name: pred_labels, Length: 1630, dtype: int32"
      ]
     },
     "execution_count": 25,
     "metadata": {},
     "output_type": "execute_result"
    }
   ],
   "source": [
    "t1['pred_labels']"
   ]
  },
  {
   "cell_type": "code",
   "execution_count": 26,
   "id": "425f5239-985c-48dd-923a-14416a23469c",
   "metadata": {
    "execution": {
     "iopub.execute_input": "2022-12-06T08:36:49.463281Z",
     "iopub.status.busy": "2022-12-06T08:36:49.463281Z",
     "iopub.status.idle": "2022-12-06T08:36:49.478281Z",
     "shell.execute_reply": "2022-12-06T08:36:49.478281Z",
     "shell.execute_reply.started": "2022-12-06T08:36:49.463281Z"
    },
    "tags": []
   },
   "outputs": [
    {
     "data": {
      "text/plain": [
       "[0.7609121285518182]"
      ]
     },
     "execution_count": 26,
     "metadata": {},
     "output_type": "execute_result"
    }
   ],
   "source": [
    "ari_l = []\n",
    "ari_l.append(metrics.adjusted_rand_score(np.array(t1['true_labels']),np.array(t1['pred_labels'])))\n",
    "ari_l"
   ]
  },
  {
   "cell_type": "code",
   "execution_count": null,
   "id": "7a108fe3-b78c-4b34-8383-ea11d205cd38",
   "metadata": {
    "execution": {
     "iopub.status.busy": "2022-12-06T08:33:44.406564Z",
     "iopub.status.idle": "2022-12-06T08:33:44.407565Z",
     "shell.execute_reply": "2022-12-06T08:33:44.406564Z",
     "shell.execute_reply.started": "2022-12-06T08:33:44.406564Z"
    },
    "tags": []
   },
   "outputs": [],
   "source": [
    "\n",
    "df['order_dis'] = pd.cut(x['order_total'],30, duplicates = 'drop')"
   ]
  },
  {
   "cell_type": "code",
   "execution_count": null,
   "id": "1a324ec8-5f99-4b59-ae52-72989517ca65",
   "metadata": {
    "execution": {
     "iopub.status.busy": "2022-12-06T08:33:44.407565Z",
     "iopub.status.idle": "2022-12-06T08:33:44.408565Z",
     "shell.execute_reply": "2022-12-06T08:33:44.407565Z",
     "shell.execute_reply.started": "2022-12-06T08:33:44.407565Z"
    },
    "tags": []
   },
   "outputs": [],
   "source": [
    "start = df['days_since_order'].max()\n",
    "end = df['days_since_order'].min()\n",
    "print(start, end, int(((start-365)-end)/7))\n"
   ]
  },
  {
   "cell_type": "code",
   "execution_count": null,
   "id": "322954b6-5b6c-4498-8c18-124fdea99928",
   "metadata": {
    "execution": {
     "iopub.status.busy": "2022-12-06T08:33:44.408565Z",
     "iopub.status.idle": "2022-12-06T08:33:44.409565Z",
     "shell.execute_reply": "2022-12-06T08:33:44.409565Z",
     "shell.execute_reply.started": "2022-12-06T08:33:44.409565Z"
    },
    "tags": []
   },
   "outputs": [],
   "source": [
    "test = df.loc[df['days_since_order'] < (start-365) ]\n",
    "test.shape"
   ]
  },
  {
   "cell_type": "code",
   "execution_count": null,
   "id": "522d754b-a903-4ee3-9f13-88a201df1c63",
   "metadata": {
    "execution": {
     "iopub.status.busy": "2022-12-06T08:33:44.409565Z",
     "iopub.status.idle": "2022-12-06T08:33:44.410566Z",
     "shell.execute_reply": "2022-12-06T08:33:44.410566Z",
     "shell.execute_reply.started": "2022-12-06T08:33:44.410566Z"
    },
    "tags": []
   },
   "outputs": [],
   "source": [
    "md_df = feat_eng(test)"
   ]
  },
  {
   "cell_type": "code",
   "execution_count": null,
   "id": "b1d19e65-212c-4589-b34c-e4d66ef752a2",
   "metadata": {
    "execution": {
     "iopub.status.busy": "2022-12-06T08:33:44.411565Z",
     "iopub.status.idle": "2022-12-06T08:33:44.411565Z",
     "shell.execute_reply": "2022-12-06T08:33:44.411565Z",
     "shell.execute_reply.started": "2022-12-06T08:33:44.411565Z"
    },
    "tags": []
   },
   "outputs": [],
   "source": [
    "md_df.shape\n"
   ]
  },
  {
   "cell_type": "code",
   "execution_count": null,
   "id": "ddcae440-bbad-4e35-a1ad-d401c8c8fe51",
   "metadata": {
    "execution": {
     "iopub.status.busy": "2022-12-06T08:33:44.412563Z",
     "iopub.status.idle": "2022-12-06T08:33:44.412563Z",
     "shell.execute_reply": "2022-12-06T08:33:44.412563Z",
     "shell.execute_reply.started": "2022-12-06T08:33:44.412563Z"
    },
    "tags": []
   },
   "outputs": [],
   "source": [
    "md_df['n_order'].describe()"
   ]
  },
  {
   "cell_type": "code",
   "execution_count": 55,
   "id": "eb3d36fc-7688-43ca-8efb-ae5195670f7e",
   "metadata": {
    "execution": {
     "iopub.execute_input": "2022-12-06T12:05:34.691741Z",
     "iopub.status.busy": "2022-12-06T12:05:34.691741Z",
     "iopub.status.idle": "2022-12-06T12:05:34.695742Z",
     "shell.execute_reply": "2022-12-06T12:05:34.695742Z",
     "shell.execute_reply.started": "2022-12-06T12:05:34.691741Z"
    },
    "tags": []
   },
   "outputs": [],
   "source": [
    "a = [0,0,0,0,0,0,1,1,1,1,2,2,2]\n",
    "b = [1,1,1,1,1,1,2,2,2,2,0,1,0]"
   ]
  },
  {
   "cell_type": "code",
   "execution_count": 56,
   "id": "138cdfe6-28d0-47bc-a1da-40d6d81e5d90",
   "metadata": {
    "execution": {
     "iopub.execute_input": "2022-12-06T12:05:35.390690Z",
     "iopub.status.busy": "2022-12-06T12:05:35.390690Z",
     "iopub.status.idle": "2022-12-06T12:05:35.408686Z",
     "shell.execute_reply": "2022-12-06T12:05:35.408686Z",
     "shell.execute_reply.started": "2022-12-06T12:05:35.390690Z"
    },
    "tags": []
   },
   "outputs": [
    {
     "data": {
      "text/plain": [
       "0.7699115044247787"
      ]
     },
     "execution_count": 56,
     "metadata": {},
     "output_type": "execute_result"
    }
   ],
   "source": [
    "metrics.adjusted_rand_score(np.array(a), np.array(b))"
   ]
  },
  {
   "cell_type": "code",
   "execution_count": null,
   "id": "f28c76b6-5e4c-4b15-b813-834e64e739b9",
   "metadata": {},
   "outputs": [],
   "source": []
  }
 ],
 "metadata": {
  "kernelspec": {
   "display_name": "Python 3 (ipykernel)",
   "language": "python",
   "name": "python3"
  },
  "language_info": {
   "codemirror_mode": {
    "name": "ipython",
    "version": 3
   },
   "file_extension": ".py",
   "mimetype": "text/x-python",
   "name": "python",
   "nbconvert_exporter": "python",
   "pygments_lexer": "ipython3",
   "version": "3.9.12"
  }
 },
 "nbformat": 4,
 "nbformat_minor": 5
}
