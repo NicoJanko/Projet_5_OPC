{
 "cells": [
  {
   "cell_type": "code",
   "execution_count": 1,
   "id": "d2a1e766-341c-43a3-9423-009265a55c3a",
   "metadata": {
    "tags": []
   },
   "outputs": [],
   "source": [
    "import pandas as pd\n",
    "import numpy as np\n",
    "import matplotlib.pyplot as plt\n",
    "import missingno as msno\n",
    "import seaborn as sns\n",
    "import os"
   ]
  },
  {
   "cell_type": "code",
   "execution_count": 9,
   "id": "eb35440f-4dbc-4190-8d24-63eae7f7c1e8",
   "metadata": {
    "tags": []
   },
   "outputs": [
    {
     "ename": "FileNotFoundError",
     "evalue": "[Errno 2] No such file or directory: 'C:\\\\Users\\\\Nico Janko\\\\Documents\\\\Data_Science\\\\OpenClassRoom\\\\Projet 5_\\\\olist_customers_dataset.csv'",
     "output_type": "error",
     "traceback": [
      "\u001b[1;31m---------------------------------------------------------------------------\u001b[0m",
      "\u001b[1;31mFileNotFoundError\u001b[0m                         Traceback (most recent call last)",
      "Input \u001b[1;32mIn [9]\u001b[0m, in \u001b[0;36m<cell line: 2>\u001b[1;34m()\u001b[0m\n\u001b[0;32m      1\u001b[0m path \u001b[38;5;241m=\u001b[39m \u001b[38;5;124mr\u001b[39m\u001b[38;5;124m'\u001b[39m\u001b[38;5;124mC:\u001b[39m\u001b[38;5;124m\\\u001b[39m\u001b[38;5;124mUsers\u001b[39m\u001b[38;5;124m\\\u001b[39m\u001b[38;5;124mNico Janko\u001b[39m\u001b[38;5;124m\\\u001b[39m\u001b[38;5;124mDocuments\u001b[39m\u001b[38;5;124m\\\u001b[39m\u001b[38;5;124mData_Science\u001b[39m\u001b[38;5;124m\\\u001b[39m\u001b[38;5;124mOpenClassRoom\u001b[39m\u001b[38;5;124m\\\u001b[39m\u001b[38;5;124mProjet 5\u001b[39m\u001b[38;5;124m'\u001b[39m\n\u001b[1;32m----> 2\u001b[0m cust_df\u001b[38;5;241m=\u001b[39m\u001b[43mpd\u001b[49m\u001b[38;5;241;43m.\u001b[39;49m\u001b[43mread_csv\u001b[49m\u001b[43m(\u001b[49m\u001b[43mpath\u001b[49m\u001b[43m \u001b[49m\u001b[38;5;241;43m+\u001b[39;49m\u001b[43m \u001b[49m\u001b[38;5;124;43m'\u001b[39;49m\u001b[38;5;124;43m_\u001b[39;49m\u001b[38;5;124;43m\\\u001b[39;49m\u001b[38;5;124;43molist_customers_dataset.csv\u001b[39;49m\u001b[38;5;124;43m'\u001b[39;49m\u001b[43m)\u001b[49m\n\u001b[0;32m      3\u001b[0m geo_df\u001b[38;5;241m=\u001b[39mpd\u001b[38;5;241m.\u001b[39mread_csv(path \u001b[38;5;241m+\u001b[39m\u001b[38;5;124m'\u001b[39m\u001b[38;5;130;01m\\\\\u001b[39;00m\u001b[38;5;124molist_geolocation_dataset.csv\u001b[39m\u001b[38;5;124m'\u001b[39m)\n\u001b[0;32m      4\u001b[0m ord_it_df\u001b[38;5;241m=\u001b[39mpd\u001b[38;5;241m.\u001b[39mread_csv(path \u001b[38;5;241m+\u001b[39m \u001b[38;5;124m'\u001b[39m\u001b[38;5;130;01m\\\\\u001b[39;00m\u001b[38;5;124molist_order_items_dataset.csv\u001b[39m\u001b[38;5;124m'\u001b[39m)\n",
      "File \u001b[1;32m~\\Documents\\Data_Science\\Anaconda\\lib\\site-packages\\pandas\\util\\_decorators.py:311\u001b[0m, in \u001b[0;36mdeprecate_nonkeyword_arguments.<locals>.decorate.<locals>.wrapper\u001b[1;34m(*args, **kwargs)\u001b[0m\n\u001b[0;32m    305\u001b[0m \u001b[38;5;28;01mif\u001b[39;00m \u001b[38;5;28mlen\u001b[39m(args) \u001b[38;5;241m>\u001b[39m num_allow_args:\n\u001b[0;32m    306\u001b[0m     warnings\u001b[38;5;241m.\u001b[39mwarn(\n\u001b[0;32m    307\u001b[0m         msg\u001b[38;5;241m.\u001b[39mformat(arguments\u001b[38;5;241m=\u001b[39marguments),\n\u001b[0;32m    308\u001b[0m         \u001b[38;5;167;01mFutureWarning\u001b[39;00m,\n\u001b[0;32m    309\u001b[0m         stacklevel\u001b[38;5;241m=\u001b[39mstacklevel,\n\u001b[0;32m    310\u001b[0m     )\n\u001b[1;32m--> 311\u001b[0m \u001b[38;5;28;01mreturn\u001b[39;00m func(\u001b[38;5;241m*\u001b[39margs, \u001b[38;5;241m*\u001b[39m\u001b[38;5;241m*\u001b[39mkwargs)\n",
      "File \u001b[1;32m~\\Documents\\Data_Science\\Anaconda\\lib\\site-packages\\pandas\\io\\parsers\\readers.py:680\u001b[0m, in \u001b[0;36mread_csv\u001b[1;34m(filepath_or_buffer, sep, delimiter, header, names, index_col, usecols, squeeze, prefix, mangle_dupe_cols, dtype, engine, converters, true_values, false_values, skipinitialspace, skiprows, skipfooter, nrows, na_values, keep_default_na, na_filter, verbose, skip_blank_lines, parse_dates, infer_datetime_format, keep_date_col, date_parser, dayfirst, cache_dates, iterator, chunksize, compression, thousands, decimal, lineterminator, quotechar, quoting, doublequote, escapechar, comment, encoding, encoding_errors, dialect, error_bad_lines, warn_bad_lines, on_bad_lines, delim_whitespace, low_memory, memory_map, float_precision, storage_options)\u001b[0m\n\u001b[0;32m    665\u001b[0m kwds_defaults \u001b[38;5;241m=\u001b[39m _refine_defaults_read(\n\u001b[0;32m    666\u001b[0m     dialect,\n\u001b[0;32m    667\u001b[0m     delimiter,\n\u001b[1;32m   (...)\u001b[0m\n\u001b[0;32m    676\u001b[0m     defaults\u001b[38;5;241m=\u001b[39m{\u001b[38;5;124m\"\u001b[39m\u001b[38;5;124mdelimiter\u001b[39m\u001b[38;5;124m\"\u001b[39m: \u001b[38;5;124m\"\u001b[39m\u001b[38;5;124m,\u001b[39m\u001b[38;5;124m\"\u001b[39m},\n\u001b[0;32m    677\u001b[0m )\n\u001b[0;32m    678\u001b[0m kwds\u001b[38;5;241m.\u001b[39mupdate(kwds_defaults)\n\u001b[1;32m--> 680\u001b[0m \u001b[38;5;28;01mreturn\u001b[39;00m \u001b[43m_read\u001b[49m\u001b[43m(\u001b[49m\u001b[43mfilepath_or_buffer\u001b[49m\u001b[43m,\u001b[49m\u001b[43m \u001b[49m\u001b[43mkwds\u001b[49m\u001b[43m)\u001b[49m\n",
      "File \u001b[1;32m~\\Documents\\Data_Science\\Anaconda\\lib\\site-packages\\pandas\\io\\parsers\\readers.py:575\u001b[0m, in \u001b[0;36m_read\u001b[1;34m(filepath_or_buffer, kwds)\u001b[0m\n\u001b[0;32m    572\u001b[0m _validate_names(kwds\u001b[38;5;241m.\u001b[39mget(\u001b[38;5;124m\"\u001b[39m\u001b[38;5;124mnames\u001b[39m\u001b[38;5;124m\"\u001b[39m, \u001b[38;5;28;01mNone\u001b[39;00m))\n\u001b[0;32m    574\u001b[0m \u001b[38;5;66;03m# Create the parser.\u001b[39;00m\n\u001b[1;32m--> 575\u001b[0m parser \u001b[38;5;241m=\u001b[39m TextFileReader(filepath_or_buffer, \u001b[38;5;241m*\u001b[39m\u001b[38;5;241m*\u001b[39mkwds)\n\u001b[0;32m    577\u001b[0m \u001b[38;5;28;01mif\u001b[39;00m chunksize \u001b[38;5;129;01mor\u001b[39;00m iterator:\n\u001b[0;32m    578\u001b[0m     \u001b[38;5;28;01mreturn\u001b[39;00m parser\n",
      "File \u001b[1;32m~\\Documents\\Data_Science\\Anaconda\\lib\\site-packages\\pandas\\io\\parsers\\readers.py:933\u001b[0m, in \u001b[0;36mTextFileReader.__init__\u001b[1;34m(self, f, engine, **kwds)\u001b[0m\n\u001b[0;32m    930\u001b[0m     \u001b[38;5;28mself\u001b[39m\u001b[38;5;241m.\u001b[39moptions[\u001b[38;5;124m\"\u001b[39m\u001b[38;5;124mhas_index_names\u001b[39m\u001b[38;5;124m\"\u001b[39m] \u001b[38;5;241m=\u001b[39m kwds[\u001b[38;5;124m\"\u001b[39m\u001b[38;5;124mhas_index_names\u001b[39m\u001b[38;5;124m\"\u001b[39m]\n\u001b[0;32m    932\u001b[0m \u001b[38;5;28mself\u001b[39m\u001b[38;5;241m.\u001b[39mhandles: IOHandles \u001b[38;5;241m|\u001b[39m \u001b[38;5;28;01mNone\u001b[39;00m \u001b[38;5;241m=\u001b[39m \u001b[38;5;28;01mNone\u001b[39;00m\n\u001b[1;32m--> 933\u001b[0m \u001b[38;5;28mself\u001b[39m\u001b[38;5;241m.\u001b[39m_engine \u001b[38;5;241m=\u001b[39m \u001b[38;5;28;43mself\u001b[39;49m\u001b[38;5;241;43m.\u001b[39;49m\u001b[43m_make_engine\u001b[49m\u001b[43m(\u001b[49m\u001b[43mf\u001b[49m\u001b[43m,\u001b[49m\u001b[43m \u001b[49m\u001b[38;5;28;43mself\u001b[39;49m\u001b[38;5;241;43m.\u001b[39;49m\u001b[43mengine\u001b[49m\u001b[43m)\u001b[49m\n",
      "File \u001b[1;32m~\\Documents\\Data_Science\\Anaconda\\lib\\site-packages\\pandas\\io\\parsers\\readers.py:1217\u001b[0m, in \u001b[0;36mTextFileReader._make_engine\u001b[1;34m(self, f, engine)\u001b[0m\n\u001b[0;32m   1213\u001b[0m     mode \u001b[38;5;241m=\u001b[39m \u001b[38;5;124m\"\u001b[39m\u001b[38;5;124mrb\u001b[39m\u001b[38;5;124m\"\u001b[39m\n\u001b[0;32m   1214\u001b[0m \u001b[38;5;66;03m# error: No overload variant of \"get_handle\" matches argument types\u001b[39;00m\n\u001b[0;32m   1215\u001b[0m \u001b[38;5;66;03m# \"Union[str, PathLike[str], ReadCsvBuffer[bytes], ReadCsvBuffer[str]]\"\u001b[39;00m\n\u001b[0;32m   1216\u001b[0m \u001b[38;5;66;03m# , \"str\", \"bool\", \"Any\", \"Any\", \"Any\", \"Any\", \"Any\"\u001b[39;00m\n\u001b[1;32m-> 1217\u001b[0m \u001b[38;5;28mself\u001b[39m\u001b[38;5;241m.\u001b[39mhandles \u001b[38;5;241m=\u001b[39m \u001b[43mget_handle\u001b[49m\u001b[43m(\u001b[49m\u001b[43m  \u001b[49m\u001b[38;5;66;43;03m# type: ignore[call-overload]\u001b[39;49;00m\n\u001b[0;32m   1218\u001b[0m \u001b[43m    \u001b[49m\u001b[43mf\u001b[49m\u001b[43m,\u001b[49m\n\u001b[0;32m   1219\u001b[0m \u001b[43m    \u001b[49m\u001b[43mmode\u001b[49m\u001b[43m,\u001b[49m\n\u001b[0;32m   1220\u001b[0m \u001b[43m    \u001b[49m\u001b[43mencoding\u001b[49m\u001b[38;5;241;43m=\u001b[39;49m\u001b[38;5;28;43mself\u001b[39;49m\u001b[38;5;241;43m.\u001b[39;49m\u001b[43moptions\u001b[49m\u001b[38;5;241;43m.\u001b[39;49m\u001b[43mget\u001b[49m\u001b[43m(\u001b[49m\u001b[38;5;124;43m\"\u001b[39;49m\u001b[38;5;124;43mencoding\u001b[39;49m\u001b[38;5;124;43m\"\u001b[39;49m\u001b[43m,\u001b[49m\u001b[43m \u001b[49m\u001b[38;5;28;43;01mNone\u001b[39;49;00m\u001b[43m)\u001b[49m\u001b[43m,\u001b[49m\n\u001b[0;32m   1221\u001b[0m \u001b[43m    \u001b[49m\u001b[43mcompression\u001b[49m\u001b[38;5;241;43m=\u001b[39;49m\u001b[38;5;28;43mself\u001b[39;49m\u001b[38;5;241;43m.\u001b[39;49m\u001b[43moptions\u001b[49m\u001b[38;5;241;43m.\u001b[39;49m\u001b[43mget\u001b[49m\u001b[43m(\u001b[49m\u001b[38;5;124;43m\"\u001b[39;49m\u001b[38;5;124;43mcompression\u001b[39;49m\u001b[38;5;124;43m\"\u001b[39;49m\u001b[43m,\u001b[49m\u001b[43m \u001b[49m\u001b[38;5;28;43;01mNone\u001b[39;49;00m\u001b[43m)\u001b[49m\u001b[43m,\u001b[49m\n\u001b[0;32m   1222\u001b[0m \u001b[43m    \u001b[49m\u001b[43mmemory_map\u001b[49m\u001b[38;5;241;43m=\u001b[39;49m\u001b[38;5;28;43mself\u001b[39;49m\u001b[38;5;241;43m.\u001b[39;49m\u001b[43moptions\u001b[49m\u001b[38;5;241;43m.\u001b[39;49m\u001b[43mget\u001b[49m\u001b[43m(\u001b[49m\u001b[38;5;124;43m\"\u001b[39;49m\u001b[38;5;124;43mmemory_map\u001b[39;49m\u001b[38;5;124;43m\"\u001b[39;49m\u001b[43m,\u001b[49m\u001b[43m \u001b[49m\u001b[38;5;28;43;01mFalse\u001b[39;49;00m\u001b[43m)\u001b[49m\u001b[43m,\u001b[49m\n\u001b[0;32m   1223\u001b[0m \u001b[43m    \u001b[49m\u001b[43mis_text\u001b[49m\u001b[38;5;241;43m=\u001b[39;49m\u001b[43mis_text\u001b[49m\u001b[43m,\u001b[49m\n\u001b[0;32m   1224\u001b[0m \u001b[43m    \u001b[49m\u001b[43merrors\u001b[49m\u001b[38;5;241;43m=\u001b[39;49m\u001b[38;5;28;43mself\u001b[39;49m\u001b[38;5;241;43m.\u001b[39;49m\u001b[43moptions\u001b[49m\u001b[38;5;241;43m.\u001b[39;49m\u001b[43mget\u001b[49m\u001b[43m(\u001b[49m\u001b[38;5;124;43m\"\u001b[39;49m\u001b[38;5;124;43mencoding_errors\u001b[39;49m\u001b[38;5;124;43m\"\u001b[39;49m\u001b[43m,\u001b[49m\u001b[43m \u001b[49m\u001b[38;5;124;43m\"\u001b[39;49m\u001b[38;5;124;43mstrict\u001b[39;49m\u001b[38;5;124;43m\"\u001b[39;49m\u001b[43m)\u001b[49m\u001b[43m,\u001b[49m\n\u001b[0;32m   1225\u001b[0m \u001b[43m    \u001b[49m\u001b[43mstorage_options\u001b[49m\u001b[38;5;241;43m=\u001b[39;49m\u001b[38;5;28;43mself\u001b[39;49m\u001b[38;5;241;43m.\u001b[39;49m\u001b[43moptions\u001b[49m\u001b[38;5;241;43m.\u001b[39;49m\u001b[43mget\u001b[49m\u001b[43m(\u001b[49m\u001b[38;5;124;43m\"\u001b[39;49m\u001b[38;5;124;43mstorage_options\u001b[39;49m\u001b[38;5;124;43m\"\u001b[39;49m\u001b[43m,\u001b[49m\u001b[43m \u001b[49m\u001b[38;5;28;43;01mNone\u001b[39;49;00m\u001b[43m)\u001b[49m\u001b[43m,\u001b[49m\n\u001b[0;32m   1226\u001b[0m \u001b[43m\u001b[49m\u001b[43m)\u001b[49m\n\u001b[0;32m   1227\u001b[0m \u001b[38;5;28;01massert\u001b[39;00m \u001b[38;5;28mself\u001b[39m\u001b[38;5;241m.\u001b[39mhandles \u001b[38;5;129;01mis\u001b[39;00m \u001b[38;5;129;01mnot\u001b[39;00m \u001b[38;5;28;01mNone\u001b[39;00m\n\u001b[0;32m   1228\u001b[0m f \u001b[38;5;241m=\u001b[39m \u001b[38;5;28mself\u001b[39m\u001b[38;5;241m.\u001b[39mhandles\u001b[38;5;241m.\u001b[39mhandle\n",
      "File \u001b[1;32m~\\Documents\\Data_Science\\Anaconda\\lib\\site-packages\\pandas\\io\\common.py:789\u001b[0m, in \u001b[0;36mget_handle\u001b[1;34m(path_or_buf, mode, encoding, compression, memory_map, is_text, errors, storage_options)\u001b[0m\n\u001b[0;32m    784\u001b[0m \u001b[38;5;28;01melif\u001b[39;00m \u001b[38;5;28misinstance\u001b[39m(handle, \u001b[38;5;28mstr\u001b[39m):\n\u001b[0;32m    785\u001b[0m     \u001b[38;5;66;03m# Check whether the filename is to be opened in binary mode.\u001b[39;00m\n\u001b[0;32m    786\u001b[0m     \u001b[38;5;66;03m# Binary mode does not support 'encoding' and 'newline'.\u001b[39;00m\n\u001b[0;32m    787\u001b[0m     \u001b[38;5;28;01mif\u001b[39;00m ioargs\u001b[38;5;241m.\u001b[39mencoding \u001b[38;5;129;01mand\u001b[39;00m \u001b[38;5;124m\"\u001b[39m\u001b[38;5;124mb\u001b[39m\u001b[38;5;124m\"\u001b[39m \u001b[38;5;129;01mnot\u001b[39;00m \u001b[38;5;129;01min\u001b[39;00m ioargs\u001b[38;5;241m.\u001b[39mmode:\n\u001b[0;32m    788\u001b[0m         \u001b[38;5;66;03m# Encoding\u001b[39;00m\n\u001b[1;32m--> 789\u001b[0m         handle \u001b[38;5;241m=\u001b[39m \u001b[38;5;28;43mopen\u001b[39;49m\u001b[43m(\u001b[49m\n\u001b[0;32m    790\u001b[0m \u001b[43m            \u001b[49m\u001b[43mhandle\u001b[49m\u001b[43m,\u001b[49m\n\u001b[0;32m    791\u001b[0m \u001b[43m            \u001b[49m\u001b[43mioargs\u001b[49m\u001b[38;5;241;43m.\u001b[39;49m\u001b[43mmode\u001b[49m\u001b[43m,\u001b[49m\n\u001b[0;32m    792\u001b[0m \u001b[43m            \u001b[49m\u001b[43mencoding\u001b[49m\u001b[38;5;241;43m=\u001b[39;49m\u001b[43mioargs\u001b[49m\u001b[38;5;241;43m.\u001b[39;49m\u001b[43mencoding\u001b[49m\u001b[43m,\u001b[49m\n\u001b[0;32m    793\u001b[0m \u001b[43m            \u001b[49m\u001b[43merrors\u001b[49m\u001b[38;5;241;43m=\u001b[39;49m\u001b[43merrors\u001b[49m\u001b[43m,\u001b[49m\n\u001b[0;32m    794\u001b[0m \u001b[43m            \u001b[49m\u001b[43mnewline\u001b[49m\u001b[38;5;241;43m=\u001b[39;49m\u001b[38;5;124;43m\"\u001b[39;49m\u001b[38;5;124;43m\"\u001b[39;49m\u001b[43m,\u001b[49m\n\u001b[0;32m    795\u001b[0m \u001b[43m        \u001b[49m\u001b[43m)\u001b[49m\n\u001b[0;32m    796\u001b[0m     \u001b[38;5;28;01melse\u001b[39;00m:\n\u001b[0;32m    797\u001b[0m         \u001b[38;5;66;03m# Binary mode\u001b[39;00m\n\u001b[0;32m    798\u001b[0m         handle \u001b[38;5;241m=\u001b[39m \u001b[38;5;28mopen\u001b[39m(handle, ioargs\u001b[38;5;241m.\u001b[39mmode)\n",
      "\u001b[1;31mFileNotFoundError\u001b[0m: [Errno 2] No such file or directory: 'C:\\\\Users\\\\Nico Janko\\\\Documents\\\\Data_Science\\\\OpenClassRoom\\\\Projet 5_\\\\olist_customers_dataset.csv'"
     ]
    }
   ],
   "source": [
    "path = r'C:\\Users\\Nico Janko\\Documents\\Data_Science\\OpenClassRoom\\Projet 5'\n",
    "cust_df=pd.read_csv(path + '_\\olist_customers_dataset.csv')\n",
    "geo_df=pd.read_csv(path +'\\\\olist_geolocation_dataset.csv')\n",
    "ord_it_df=pd.read_csv(path + '\\\\olist_order_items_dataset.csv')\n",
    "ord_pay_df=pd.read_csv(path + '\\\\olist_order_payments_dataset.csv')\n",
    "ord_rev_df=pd.read_csv(path + '\\\\olist_order_reviews_dataset.csv')\n",
    "ord_df=pd.read_csv(path + '\\\\olist_orders_dataset.csv')\n",
    "prod_df=pd.read_csv(path + '\\\\olist_products_dataset.csv')\n",
    "sell_df=pd.read_csv(path + '\\\\olist_sellers_dataset.csv')"
   ]
  },
  {
   "cell_type": "code",
   "execution_count": null,
   "id": "c3da12b2-9fbc-4758-a130-94919b035118",
   "metadata": {
    "tags": []
   },
   "outputs": [],
   "source": [
    "dfs = {0:cust_df,1:geo_df,2:ord_it_df,3:ord_pay_df,4:ord_rev_df,5:ord_df,6:prod_df,7:sell_df}"
   ]
  },
  {
   "cell_type": "code",
   "execution_count": null,
   "id": "6b610d6a-468a-4ec2-9cf9-7697d44403cc",
   "metadata": {
    "tags": []
   },
   "outputs": [],
   "source": [
    "for i in dfs:\n",
    "    print(dfs[i].info())\n",
    "    msno.matrix(dfs[i])"
   ]
  },
  {
   "cell_type": "code",
   "execution_count": null,
   "id": "d4a6ca1d-f0c1-4813-8b5e-497fb6370eb5",
   "metadata": {
    "tags": []
   },
   "outputs": [],
   "source": [
    "#get the customers that ordered more than once\n",
    "multi_cust_df = dfs[0][dfs[0].groupby('customer_unique_id').customer_unique_id.transform('count') > 1]\n",
    "\n",
    "#get their customer_id\n",
    "multi_custom = multi_cust_df[['customer_id','customer_unique_id']]\n",
    "multi_id = multi_custom['customer_id']\n",
    "multi_uni_id = multi_custom['customer_unique_id']\n",
    "#get their order_id\n",
    "multi_order_df = dfs[5][dfs[5]['customer_id'].isin(multi_id)]\n",
    "multi_order_id = multi_order_df['order_id']\n",
    "\n",
    "multi_pay_df = dfs[3][dfs[3]['order_id'].isin(multi_order_id)]\n",
    "#get their review score\n",
    "multi_rev_df = dfs[4][dfs[4]['order_id'].isin(multi_order_id)]\n",
    "\n",
    "#get the category of each order\n",
    "multi_prod_df =  dfs[2][dfs[2]['order_id'].isin(multi_order_id)]\n",
    "multi_prod_id = multi_prod_df['product_id']\n",
    "multi_cat_df = dfs[6][dfs[6]['product_id'].isin(multi_prod_id)].set_index('product_id')\n",
    "\n",
    "cat_ser = multi_cat_df['product_category_name']\n",
    "multi_prod_df = multi_prod_df.join(cat_ser, on = 'product_id')\n",
    "multi_prod_df = multi_prod_df.dropna(subset = 'product_category_name') #74 product don't have a category name\n"
   ]
  },
  {
   "cell_type": "code",
   "execution_count": null,
   "id": "3b5d5ffe-a3b3-4ba5-8028-9601dce9d034",
   "metadata": {
    "tags": []
   },
   "outputs": [],
   "source": [
    "multi_prod_df.info()"
   ]
  },
  {
   "cell_type": "code",
   "execution_count": null,
   "id": "c9d044a0-f30b-4a82-9fdf-e766d7d93b5a",
   "metadata": {
    "tags": []
   },
   "outputs": [],
   "source": [
    "def cat_name(x):\n",
    "    temp = set()\n",
    "    for i in x:\n",
    "        if i not in temp:\n",
    "            temp.add(i)\n",
    "    temp = str(temp)\n",
    "    return temp"
   ]
  },
  {
   "cell_type": "code",
   "execution_count": null,
   "id": "1e401a73-e8cf-4f8e-985e-990a016cbb2a",
   "metadata": {
    "tags": []
   },
   "outputs": [],
   "source": []
  },
  {
   "cell_type": "code",
   "execution_count": null,
   "id": "dc10ce1a-222b-4ec2-9aec-f0c5be8c89f8",
   "metadata": {
    "tags": []
   },
   "outputs": [],
   "source": [
    "\n"
   ]
  },
  {
   "cell_type": "code",
   "execution_count": null,
   "id": "d0fb05dc-de7b-49b4-b8df-3eeca398a9f5",
   "metadata": {},
   "outputs": [],
   "source": [
    "x = (1,1,1,1,1)\n",
    "y = (1,2,3)\n",
    "z = (1,2,2)"
   ]
  },
  {
   "cell_type": "code",
   "execution_count": null,
   "id": "36bb6c0d-d6f9-495c-b921-802e5864bd06",
   "metadata": {
    "tags": []
   },
   "outputs": [],
   "source": [
    "y[2]"
   ]
  },
  {
   "cell_type": "code",
   "execution_count": null,
   "id": "e16e388c-cc9c-43f6-99b0-7f0465830b4a",
   "metadata": {
    "tags": []
   },
   "outputs": [],
   "source": [
    "multi_cat_df['product_category_name'].unique().shape"
   ]
  },
  {
   "cell_type": "code",
   "execution_count": null,
   "id": "0c7aaad4-9ac3-4117-aa0f-a951e9b8cf32",
   "metadata": {
    "tags": []
   },
   "outputs": [],
   "source": [
    "x = dfs[0]['customer_id'].unique().shape[0]\n",
    "y = dfs[0]['customer_unique_id'].unique().shape[0]\n",
    "print(x,y, 1-(y/x))"
   ]
  },
  {
   "cell_type": "code",
   "execution_count": null,
   "id": "b98a97cd-0c36-45f4-b051-35f468167a31",
   "metadata": {
    "tags": []
   },
   "outputs": [],
   "source": [
    "import time\n",
    "import datetime\n",
    "\n",
    "def days(x):\n",
    "    td = time.time()\n",
    "    t = time.mktime(datetime.datetime.strptime(str(x),\"%Y-%m-%d %H:%M:%S\").timetuple())\n",
    "    d = int((td - t)/86400)\n",
    "    return d"
   ]
  },
  {
   "cell_type": "code",
   "execution_count": null,
   "id": "a930eae8-50f4-420f-9b48-989f8d84d8e1",
   "metadata": {
    "tags": []
   },
   "outputs": [],
   "source": [
    "##build the working df of each order\n",
    "#take the customer id\n",
    "df = pd.DataFrame(multi_custom)\n",
    "df = df.set_index('customer_id')\n",
    "df = df.join(multi_order_df[['customer_id','order_id', 'order_purchase_timestamp']].set_index('customer_id'))\n",
    "#take the value of each order\n",
    "temp = pd.DataFrame()\n",
    "temp['order_total'] = multi_pay_df.groupby('order_id').payment_value.sum() #some order have voucher\n",
    "df = df.join(temp, on = 'order_id')\n",
    "#calculate the days since order of each order\n",
    "df['days_since_order'] = df['order_purchase_timestamp'].apply(days)\n",
    "#take the review score for each order\n",
    "temp = pd.DataFrame(index = multi_rev_df.index)\n",
    "temp['review_days'] = multi_rev_df['review_creation_date'].apply(days)\n",
    "temp = temp.join(multi_rev_df[['order_id', 'review_score']])\n",
    "agg_fun = {'review_days' : ['min'], 'review_score' : ['mean']}\n",
    "temp = temp.groupby('order_id').agg(agg_fun)\n",
    "df = df.join(temp, on = 'order_id', how='right')\n",
    "df = df.drop(df.columns[5], axis=1 ) \n",
    "df = df.rename(columns = {df.columns[5] : 'review_score'})\n",
    "\n",
    "#take the product category of each order\n",
    "temp = pd.DataFrame(multi_prod_df.groupby('order_id').product_category_name.agg(lambda x: tuple(x)))\n",
    "\n",
    "def cat_name(x):  #some orders have mulitple items from the same category\n",
    "    y = set()\n",
    "    for i in x:\n",
    "        if i not in y:\n",
    "            y.add(i)\n",
    "    y = str(y)\n",
    "    return y\n",
    "\n",
    "temp['product_category_name'] = temp.applymap(cat_name)\n",
    "df = df.join(temp, on = 'order_id')\n",
    "df =df.dropna(subset = 'product_category_name')\n",
    "df =  df[df.groupby('customer_unique_id').customer_unique_id.transform('count') > 1]#some customer didn't review all their orders\n",
    "print(df.info(),df.head())"
   ]
  },
  {
   "cell_type": "code",
   "execution_count": null,
   "id": "e9f28005-94f6-4c0b-b4ca-58875de6e6fb",
   "metadata": {
    "tags": []
   },
   "outputs": [],
   "source": [
    "pd.crosstab(df['customer_unique_id'], df['product_category_name'], values = df['product_category_name'], aggfunc= 'count', margins = True).fillna(0)"
   ]
  },
  {
   "cell_type": "code",
   "execution_count": null,
   "id": "37cdb4b6-cfcd-4c1b-b1ca-a8825eceace3",
   "metadata": {
    "tags": []
   },
   "outputs": [],
   "source": [
    "#build the model df\n",
    "md_df = pd.DataFrame(index = df['customer_unique_id'].unique())\n",
    "\n",
    "#feature  = number of order\n",
    "md_df['n_order'] = df.groupby('customer_unique_id').order_id.count()\n",
    "\n",
    "#feature  = total value of orders\n",
    "md_df['payment_total'] = df.groupby('customer_unique_id').order_total.agg('sum')\n",
    "\n",
    "#feature  = mean and std of orders\n",
    "md_df['payment_mean'] = df.groupby('customer_unique_id').order_total.agg('mean')\n",
    "md_df['payment_std'] = df.groupby('customer_unique_id').order_total.agg('std')\n",
    "\n",
    "#feature frequency of order on the distrib\n",
    "df['order_dis'] = pd.cut(df['order_total'],10, duplicates = 'drop')\n",
    "temp = pd.crosstab(df['customer_unique_id'], df['order_dis'], values = df['order_dis'], aggfunc= 'count', margins = True)\n",
    "for i in range(temp.shape[1]):\n",
    "    temp.iloc[:,i] = round((temp.iloc[:,i]/temp.iloc[:,-1])*100,2)\n",
    "temp = temp.drop(labels = 'All')\n",
    "temp = temp.drop(labels = 'All', axis = 1)\n",
    "md_df = md_df.join(temp)\n",
    "\n",
    "#feature frequency of category\n",
    "temp = pd.crosstab(df['customer_unique_id'], df['product_category_name'], values = df['product_category_name'], aggfunc= 'count', margins = True).fillna(0)\n",
    "for i in range(temp.shape[1]):\n",
    "    temp.iloc[:,i] = round((temp.iloc[:,i]/temp.iloc[:,-1])*100,2)\n",
    "temp = temp.drop(labels = 'All')\n",
    "temp = temp.drop(labels = 'All', axis = 1)\n",
    "md_df = md_df.join(temp)\n",
    "#feature review score mean and std\n",
    "md_df['rev_mean'] = df.groupby('customer_unique_id').review_score.agg('mean')\n",
    "md_df['rev_std'] = df.groupby('customer_unique_id').review_score.agg('std')\n",
    "#feature  = days since last order\n",
    "md_df['days_since_last_order'] = df.groupby('customer_unique_id').days_since_order.agg('min')\n",
    "\n",
    "\n",
    "print(md_df.info())"
   ]
  },
  {
   "cell_type": "code",
   "execution_count": null,
   "id": "f3186dc5-7cfd-40c3-ace9-584cad55ffa0",
   "metadata": {
    "tags": []
   },
   "outputs": [],
   "source": [
    "msno.matrix(md_df)"
   ]
  },
  {
   "cell_type": "code",
   "execution_count": null,
   "id": "54304ce1-d8be-443c-aa5a-7028da1abaf1",
   "metadata": {
    "tags": []
   },
   "outputs": [],
   "source": [
    "\n",
    "fig = plt.figure(figsize=(20,20))\n",
    "for i in range(md_df.shape[1]):\n",
    "    ax = fig.add_subplot(int((md_df.shape[1]/4)+1), 4, i+1)\n",
    "    sns.histplot(md_df.iloc[:,i], ax = ax)\n",
    "\n",
    "plt.show()"
   ]
  },
  {
   "cell_type": "code",
   "execution_count": null,
   "id": "cfad22a0-b024-44db-9afe-3e26487fff7e",
   "metadata": {
    "tags": []
   },
   "outputs": [],
   "source": [
    "md_df.to_csv('md_df.csv', index = False)"
   ]
  },
  {
   "cell_type": "markdown",
   "id": "7356d02b-e6ec-49e1-add8-1149749e7017",
   "metadata": {},
   "source": [
    "## Dimention reduction"
   ]
  },
  {
   "cell_type": "code",
   "execution_count": null,
   "id": "5d3bc756-7512-4684-b18e-edf28e32f3fd",
   "metadata": {
    "tags": []
   },
   "outputs": [],
   "source": [
    "dim_df = pd.read_csv('md_df.csv')\n",
    "x = dim_df.values\n",
    "features = dim_df.columns"
   ]
  },
  {
   "cell_type": "code",
   "execution_count": null,
   "id": "28aef1c5-4284-4031-a08a-1beda650c82b",
   "metadata": {
    "tags": []
   },
   "outputs": [],
   "source": [
    "dim_df.isna().sum().sum()"
   ]
  },
  {
   "cell_type": "code",
   "execution_count": null,
   "id": "6a4ca0d9-a103-45f7-a674-1e24bf776409",
   "metadata": {
    "tags": []
   },
   "outputs": [],
   "source": [
    "from sklearn import decomposition\n",
    "from sklearn import preprocessing\n",
    "\n",
    "pca = decomposition.PCA(n_components = 2)\n",
    "scaler = preprocessing.StandardScaler()\n",
    "x_scale = preprocessing.scale(x)\n",
    "\n",
    "pca.fit(x_scale)"
   ]
  },
  {
   "cell_type": "code",
   "execution_count": null,
   "id": "ef3f35f1-7053-428a-b154-ac934821b3eb",
   "metadata": {
    "tags": []
   },
   "outputs": [],
   "source": [
    "scree = (pca.explained_variance_ratio_*100).round(2).cumsum()\n",
    "print(scree)"
   ]
  },
  {
   "cell_type": "code",
   "execution_count": null,
   "id": "15ca766d-5ee4-498f-bd93-9223084f5796",
   "metadata": {
    "tags": []
   },
   "outputs": [],
   "source": [
    "pd.DataFrame(pca.components_, columns = features, index = ['F1', 'F2'])\n",
    "\n"
   ]
  },
  {
   "cell_type": "code",
   "execution_count": null,
   "id": "835ba2ab-8fe4-4c32-b035-aa1ce717c295",
   "metadata": {
    "tags": []
   },
   "outputs": [],
   "source": [
    "x, y = 0,1 #define factorial space, (0,1) define the first factorial plane (F1, F2), (2,3) define the second (F3,F4) and so on(tuple)\n",
    "\n",
    "fig, ax = plt.subplots(figsize = (10,10))\n",
    "for i in range(0, pca.components_.shape[1]):\n",
    "    ax.arrow(0,0, #start the arrow at the origin\n",
    "                    pca.components_[0,i], #coordinate for PC1\n",
    "                    pca.components_[1,i], #coordinate for PC2\n",
    "                    head_width = 0.007,\n",
    "                    head_length = 0.007,\n",
    "                    width=0.002,) #graphical aspect of the arrow\n",
    "    plt.text(pca.components_[0,i] + 0.05,\n",
    "                        pca.components_[1,i] + 0.05,\n",
    "                        features[i], fontsize = 15) # plot the text near each arrow head\n",
    "plt.plot([-1,1], [0,0], color = 'grey', ls='--')\n",
    "plt.plot([0,0], [-1,1], color='grey', ls='--') #plot the lines (abscissa and ordonate)\n",
    "\n",
    "plt.xlabel('F{} ({}%)'.format(x+1, round(100*pca.explained_variance_ratio_[x],1)), fontsize = 18) #label the axis with the percentage of explained variance\n",
    "plt.ylabel('F{} ({}%)'.format(y+1, round(100*pca.explained_variance_ratio_[y],1)),fontsize = 18)\n",
    "\n",
    "plt.title('Cercle des corélations (F{} et F {})'.format(x+1, y+1), fontsize = 22)\n",
    "\n",
    "an = np.linspace(0, 2 * np.pi, 100) #return an np.array of the coordinates (100) of a circle of circonference 1 (2*pi)\n",
    "plt.plot(np.cos(an), np.sin(an)) #plot the circle\n",
    "plt.axis('equal') #set equal scaling\n",
    "plt.show()\n",
    "plt.clf()"
   ]
  },
  {
   "cell_type": "code",
   "execution_count": null,
   "id": "5f52299e-e3f1-40fe-9a23-57a23bcd9a94",
   "metadata": {
    "tags": []
   },
   "outputs": [],
   "source": [
    "fig = plt.figure(figsize=(20,20))\n",
    "for i in range(x_scale.shape[1]):\n",
    "    ax = fig.add_subplot(int((x_scale.shape[1]/4)+1), 4, i+1)\n",
    "    sns.histplot(x_scale[:,i], ax = ax)\n",
    "\n",
    "plt.show()"
   ]
  },
  {
   "cell_type": "code",
   "execution_count": null,
   "id": "1dd1668c-a199-4199-8557-cac11d7ec6df",
   "metadata": {
    "tags": []
   },
   "outputs": [],
   "source": [
    "x_proj = pca.transform(x_scale)\n",
    "fig, ax = plt.subplots(figsize = (10,10))\n",
    "ax.scatter(x_proj[:,0],x_proj[:,1])\n",
    "plt.show()"
   ]
  },
  {
   "cell_type": "code",
   "execution_count": null,
   "id": "91f74295-4df5-48c5-b196-c9c809a543b7",
   "metadata": {
    "tags": []
   },
   "outputs": [],
   "source": [
    "from sklearn import cluster, metrics"
   ]
  },
  {
   "cell_type": "code",
   "execution_count": null,
   "id": "6d66e548-ab68-460c-8044-7efe7c6da238",
   "metadata": {
    "tags": []
   },
   "outputs": [],
   "source": [
    "silhouette = []\n",
    "for i in range(2,50):\n",
    "    clus = cluster.KMeans(n_clusters = i)\n",
    "    clus.fit(x_proj3)\n",
    "    sil  = metrics.silhouette_score(x_proj3, clus.labels_)\n",
    "    silhouette.append(sil)\n",
    "    \n",
    "plt.plot(range(2,50), silhouette, marker ='o')\n"
   ]
  },
  {
   "cell_type": "code",
   "execution_count": null,
   "id": "bca177c3-51bb-4a72-9a0e-3e03f88b1285",
   "metadata": {
    "tags": []
   },
   "outputs": [],
   "source": [
    "from sklearn.manifold import Isomap\n",
    "iso = Isomap()\n",
    "from sklearn.manifold import MDS\n",
    "mds = MDS()\n",
    "from sklearn.manifold import TSNE\n",
    "tsne = TSNE()\n",
    "\n",
    "x_proj2 = mds.fit_transform(x_scale)\n",
    "x_proj3 = tsne.fit_transform(x_scale)\n",
    "#x_proj4 = iso.fit_transform(x_scale)"
   ]
  },
  {
   "cell_type": "code",
   "execution_count": null,
   "id": "0c074079-63a1-4245-b655-c87f83dff748",
   "metadata": {
    "tags": []
   },
   "outputs": [],
   "source": [
    "clus = cluster.KMeans(n_clusters = 50)\n",
    "clus.fit(x_scale)\n",
    "\n",
    "fig,ax =plt.subplots(2,2,figsize = (15,15))\n",
    "ax[0,0].scatter(x_proj[:,0], x_proj[:,1], c=clus.labels_)\n",
    "ax[0,1].scatter(x_proj2[:,0], x_proj2[:,1], c=clus.labels_)\n",
    "ax[1,0].scatter(x_proj3[:,0], x_proj3[:,1], c=clus.labels_)\n",
    "ax[1,1].scatter(x_proj4[:,0], x_proj4[:,1], c=clus.labels_)\n",
    "plt.show()"
   ]
  },
  {
   "cell_type": "code",
   "execution_count": null,
   "id": "66f25530-a5d6-4a90-b356-5fcb7e7e17d8",
   "metadata": {
    "tags": []
   },
   "outputs": [],
   "source": [
    "dbscan = cluster.DBSCAN()\n",
    "dbscan.fit(x_proj3)\n",
    "\n",
    "fig,ax =plt.subplots(2,2,figsize = (15,15))\n",
    "ax[0,0].scatter(x_proj[:,0], x_proj[:,1], c=dbscan.labels_)\n",
    "ax[0,1].scatter(x_proj2[:,0], x_proj2[:,1], c=dbscan.labels_)\n",
    "ax[1,0].scatter(x_proj3[:,0], x_proj3[:,1], c=dbscan.labels_)\n",
    "ax[1,1].scatter(x_proj4[:,0], x_proj4[:,1], c=dbscan.labels_)\n",
    "plt.show()"
   ]
  },
  {
   "cell_type": "code",
   "execution_count": null,
   "id": "e605e6ed-2360-476d-96f3-93ef5d446cda",
   "metadata": {
    "tags": []
   },
   "outputs": [],
   "source": [
    "md_df['clus_label'] = clus.labels_\n",
    "md_df['dbscan_label'] = dbscan.labels_"
   ]
  },
  {
   "cell_type": "code",
   "execution_count": null,
   "id": "df951061-9524-46dd-a663-383dcd2fadcf",
   "metadata": {
    "tags": []
   },
   "outputs": [],
   "source": [
    "temp = np.unique(clus.labels_)\n",
    "print(len(temp))\n",
    "md_df.loc[md_df['clus_label'] == 0].describe()"
   ]
  },
  {
   "cell_type": "code",
   "execution_count": null,
   "id": "ef4f3f72-fb76-4928-9d38-eee6f14df6eb",
   "metadata": {
    "tags": []
   },
   "outputs": [],
   "source": [
    "temp = np.unique(dbscan.labels_)\n",
    "print(temp)\n",
    "#for i in temp:\n",
    "    #print(i,md_df.loc[md_df['dbscan_label'] == i].describe())"
   ]
  },
  {
   "cell_type": "code",
   "execution_count": null,
   "id": "e6b7399b-f0b2-4d41-98f3-c1d74d9f2adc",
   "metadata": {},
   "outputs": [],
   "source": []
  }
 ],
 "metadata": {
  "kernelspec": {
   "display_name": "Python 3 (ipykernel)",
   "language": "python",
   "name": "python3"
  },
  "language_info": {
   "codemirror_mode": {
    "name": "ipython",
    "version": 3
   },
   "file_extension": ".py",
   "mimetype": "text/x-python",
   "name": "python",
   "nbconvert_exporter": "python",
   "pygments_lexer": "ipython3",
   "version": "3.9.12"
  }
 },
 "nbformat": 4,
 "nbformat_minor": 5
}
