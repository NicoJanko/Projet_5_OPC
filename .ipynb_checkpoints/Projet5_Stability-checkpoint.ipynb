{
 "cells": [
  {
   "cell_type": "code",
   "execution_count": 118,
   "id": "e6dfe4c0-817b-4d54-a071-48badc175b71",
   "metadata": {
    "execution": {
     "iopub.execute_input": "2022-12-05T14:57:58.308563Z",
     "iopub.status.busy": "2022-12-05T14:57:58.308563Z",
     "iopub.status.idle": "2022-12-05T14:57:58.314537Z",
     "shell.execute_reply": "2022-12-05T14:57:58.314537Z",
     "shell.execute_reply.started": "2022-12-05T14:57:58.308563Z"
    },
    "tags": []
   },
   "outputs": [],
   "source": [
    "import pandas as pd\n",
    "pd.options.mode.chained_assignment = None  # default='warn'\n",
    "import numpy as np\n",
    "import matplotlib.pyplot as plt\n",
    "import seaborn as sns\n",
    "import os"
   ]
  },
  {
   "cell_type": "code",
   "execution_count": 2,
   "id": "93fa413f-ff63-4253-b978-9bbaf48d4cb7",
   "metadata": {
    "execution": {
     "iopub.execute_input": "2022-12-05T13:32:04.142292Z",
     "iopub.status.busy": "2022-12-05T13:32:04.142292Z",
     "iopub.status.idle": "2022-12-05T13:32:04.298354Z",
     "shell.execute_reply": "2022-12-05T13:32:04.298354Z",
     "shell.execute_reply.started": "2022-12-05T13:32:04.142292Z"
    }
   },
   "outputs": [],
   "source": [
    "import time\n",
    "import datetime\n",
    "from sklearn import preprocessing\n",
    "from sklearn import cluster, metrics"
   ]
  },
  {
   "cell_type": "code",
   "execution_count": 17,
   "id": "b1ebb39a-167a-4e1f-8ffb-38a1cf536f6f",
   "metadata": {
    "execution": {
     "iopub.execute_input": "2022-12-05T13:49:03.106215Z",
     "iopub.status.busy": "2022-12-05T13:49:03.105218Z",
     "iopub.status.idle": "2022-12-05T13:49:03.120214Z",
     "shell.execute_reply": "2022-12-05T13:49:03.120214Z",
     "shell.execute_reply.started": "2022-12-05T13:49:03.106215Z"
    }
   },
   "outputs": [],
   "source": [
    "rscaler = preprocessing.RobustScaler()"
   ]
  },
  {
   "cell_type": "code",
   "execution_count": 4,
   "id": "d2364780-b157-4eae-9b1a-d242b783590e",
   "metadata": {
    "execution": {
     "iopub.execute_input": "2022-12-05T13:32:10.514734Z",
     "iopub.status.busy": "2022-12-05T13:32:10.514734Z",
     "iopub.status.idle": "2022-12-05T13:32:10.538732Z",
     "shell.execute_reply": "2022-12-05T13:32:10.538732Z",
     "shell.execute_reply.started": "2022-12-05T13:32:10.514734Z"
    },
    "tags": []
   },
   "outputs": [
    {
     "data": {
      "text/plain": [
       "(5929, 7)"
      ]
     },
     "execution_count": 4,
     "metadata": {},
     "output_type": "execute_result"
    }
   ],
   "source": [
    "df = pd.read_csv('df.csv')\n",
    "df.shape"
   ]
  },
  {
   "cell_type": "code",
   "execution_count": 47,
   "id": "a7e3d9d8-db51-48fb-b989-94e040015089",
   "metadata": {
    "execution": {
     "iopub.execute_input": "2022-12-05T14:25:45.119471Z",
     "iopub.status.busy": "2022-12-05T14:25:45.119471Z",
     "iopub.status.idle": "2022-12-05T14:25:45.134470Z",
     "shell.execute_reply": "2022-12-05T14:25:45.134470Z",
     "shell.execute_reply.started": "2022-12-05T14:25:45.119471Z"
    },
    "tags": []
   },
   "outputs": [],
   "source": [
    "def feat_eng(x):\n",
    "    #build the model x\n",
    "    y = pd.DataFrame(index = x['customer_unique_id'].unique())\n",
    "\n",
    "    #feature0  = number of order\n",
    "    y['n_order'] = x.groupby('customer_unique_id').order_id.count()\n",
    "\n",
    "    #feature1  = total value of orders\n",
    "    #y['payment_total'] = x.groupby('customer_unique_id').order_total.agg('sum')\n",
    "\n",
    "    #feature2-3  = mean and std of orders\n",
    "    y['payment_mean'] = x.groupby('customer_unique_id').order_total.agg('mean')\n",
    "    y['payment_std'] = x.groupby('customer_unique_id').order_total.agg('std')\n",
    "\n",
    "    #feature frequency4-10 of order on the distrib\n",
    "    x['order_dis'] = pd.cut(x['order_total'],30, duplicates = 'drop')\n",
    "    temp = pd.crosstab(x['customer_unique_id'], x['order_dis'], values = x['order_dis'], aggfunc= 'count', margins = True)\n",
    "    for i in range(temp.shape[1]):\n",
    "        temp.iloc[:,i] = round((temp.iloc[:,i]/temp.iloc[:,-1])*100,2)\n",
    "\n",
    "    temp = temp.drop(labels = 'All')\n",
    "    temp = temp.drop(labels = 'All', axis = 1)\n",
    "    y = y.join(temp)\n",
    "    #feature frequency11-135 of category\n",
    "    temp = pd.crosstab(x['customer_unique_id'], x['product_category_name'], values = x['product_category_name'], aggfunc= 'count', margins = True).fillna(0)\n",
    "    for i in range(temp.shape[1]):\n",
    "        temp.iloc[:,i] = round((temp.iloc[:,i]/temp.iloc[:,-1])*100,2)\n",
    "    temp = temp.drop(labels = 'All')\n",
    "    temp = temp.drop(labels = 'All', axis = 1)\n",
    "    y = y.join(temp)\n",
    "\n",
    "    #feature136-137 review score mean and std\n",
    "    y['rev_mean'] = x.groupby('customer_unique_id').review_score.agg('mean')\n",
    "    y['rev_std'] = x.groupby('customer_unique_id').review_score.agg('std')\n",
    "    #feature138  = days since last order\n",
    "    y['days_since_last_order'] = x.groupby('customer_unique_id').days_since_order.agg('min')\n",
    "    #feature139 = \"age\" of the custumer\n",
    "    y['age'] = x.groupby('customer_unique_id').days_since_order.agg('max')\n",
    "    y = y.loc[y['n_order'] > 1]\n",
    "    return y"
   ]
  },
  {
   "cell_type": "code",
   "execution_count": 119,
   "id": "1be7afd0-61f8-43bf-a920-fe904e79e536",
   "metadata": {
    "execution": {
     "iopub.execute_input": "2022-12-05T14:58:01.436599Z",
     "iopub.status.busy": "2022-12-05T14:58:01.436599Z",
     "iopub.status.idle": "2022-12-05T14:58:01.444598Z",
     "shell.execute_reply": "2022-12-05T14:58:01.444598Z",
     "shell.execute_reply.started": "2022-12-05T14:58:01.436599Z"
    },
    "tags": []
   },
   "outputs": [],
   "source": [
    "def simulate(x):\n",
    "    start = x['days_since_order'].max()\n",
    "    end = x['days_since_order'].min()\n",
    "    year = start - 365\n",
    "    t0 = x.loc[x['days_since_order'] < year ]\n",
    "    t0 = feat_eng(t0)\n",
    "    t0s = rscaler.fit_transform(t0.values)\n",
    "    clus = cluster.KMeans(n_clusters = 30,random_state=38)\n",
    "    clus.fit(t0s)\n",
    "    t0['true_labels'] = clus.labels_\n",
    "    ari_l = []\n",
    "    year_n = year\n",
    "    for i in range(int((year-end)/7)):\n",
    "        tn = x.loc[x['days_since_order'] < year_n]\n",
    "        tn = feat_eng(tn)\n",
    "        tns = rscaler.fit_transform(tn.values)\n",
    "        clus_n = cluster.KMeans(n_clusters = 30,random_state=38)\n",
    "        clus_n.fit(tns)\n",
    "        tn['pred_labels'] = clus_n.labels_\n",
    "        temp = pd.DataFrame(t0['true_labels']).join(tn['pred_labels'])\n",
    "        ari_l.append(metrics.adjusted_rand_score(np.array(temp['true_labels']), np.array(temp['pred_labels'])))\n",
    "        year_n = year_n+7\n",
    "    return ari_l"
   ]
  },
  {
   "cell_type": "code",
   "execution_count": 120,
   "id": "60a367cd-a04f-4300-a386-37e03a851a88",
   "metadata": {
    "execution": {
     "iopub.execute_input": "2022-12-05T14:58:01.835003Z",
     "iopub.status.busy": "2022-12-05T14:58:01.834003Z",
     "iopub.status.idle": "2022-12-05T14:58:32.042940Z",
     "shell.execute_reply": "2022-12-05T14:58:32.042940Z",
     "shell.execute_reply.started": "2022-12-05T14:58:01.835003Z"
    },
    "tags": []
   },
   "outputs": [],
   "source": [
    "test = simulate(df)"
   ]
  },
  {
   "cell_type": "code",
   "execution_count": 121,
   "id": "7cb7e539-b710-4562-a0a3-0dc948fe795b",
   "metadata": {
    "execution": {
     "iopub.execute_input": "2022-12-05T14:58:37.725833Z",
     "iopub.status.busy": "2022-12-05T14:58:37.725833Z",
     "iopub.status.idle": "2022-12-05T14:58:38.727831Z",
     "shell.execute_reply": "2022-12-05T14:58:38.727831Z",
     "shell.execute_reply.started": "2022-12-05T14:58:37.725833Z"
    },
    "tags": []
   },
   "outputs": [],
   "source": [
    "x = df\n",
    "start = x['days_since_order'].max()\n",
    "end = x['days_since_order'].min()\n",
    "year = start - 365\n",
    "t0 = x.loc[x['days_since_order'] < year ]\n",
    "t0 = feat_eng(t0)\n",
    "t0_s = rscaler.fit_transform(t0.values)\n",
    "clus = cluster.KMeans(n_clusters = 30,random_state=38)\n",
    "clus.fit(t0_s)\n",
    "true_labels = clus.labels_\n",
    "t0['true_labels'] = true_labels\n",
    "ari_l = []\n",
    "year_n = year\n",
    "t1 = x.loc[x['days_since_order'] < (year_n+1)]\n",
    "t1 = feat_eng(t1)\n",
    "t1_s = rscaler.fit_transform(t1.values)\n",
    "#clus_n = cluster.KMeans(n_clusters = 30,random_state=38)\n",
    "clus.fit(t1_s)\n",
    "pred_labels = clus.labels_\n",
    "t1['pred_labels'] = pred_labels\n",
    "temp = pd.DataFrame(t0['true_labels']).join(t1['pred_labels'])\n",
    "ari_l.append(metrics.adjusted_rand_score(np.array(temp['true_labels']), np.array(temp['pred_labels'])))\n"
   ]
  },
  {
   "cell_type": "code",
   "execution_count": 124,
   "id": "b5489654-e458-4c87-892b-2b57b133d305",
   "metadata": {
    "execution": {
     "iopub.execute_input": "2022-12-05T14:59:00.490496Z",
     "iopub.status.busy": "2022-12-05T14:59:00.490496Z",
     "iopub.status.idle": "2022-12-05T14:59:00.503494Z",
     "shell.execute_reply": "2022-12-05T14:59:00.503494Z",
     "shell.execute_reply.started": "2022-12-05T14:59:00.490496Z"
    },
    "tags": []
   },
   "outputs": [
    {
     "data": {
      "text/plain": [
       "(1612, 144)"
      ]
     },
     "execution_count": 124,
     "metadata": {},
     "output_type": "execute_result"
    }
   ],
   "source": [
    "t1.shape"
   ]
  },
  {
   "cell_type": "code",
   "execution_count": 103,
   "id": "dbe0c67c-a0be-484a-ae3c-8355c9811507",
   "metadata": {
    "execution": {
     "iopub.execute_input": "2022-12-05T14:49:19.369684Z",
     "iopub.status.busy": "2022-12-05T14:49:19.368716Z",
     "iopub.status.idle": "2022-12-05T14:49:19.378683Z",
     "shell.execute_reply": "2022-12-05T14:49:19.377683Z",
     "shell.execute_reply.started": "2022-12-05T14:49:19.368716Z"
    },
    "tags": []
   },
   "outputs": [
    {
     "data": {
      "text/plain": [
       "array([ 2, 29,  7, ..., 16, 23, 20])"
      ]
     },
     "execution_count": 103,
     "metadata": {},
     "output_type": "execute_result"
    }
   ],
   "source": [
    "prout = pd.DataFrame(t0['labels']).join(t1['labels_p'])\n",
    "np.array(prout['labels'])"
   ]
  },
  {
   "cell_type": "code",
   "execution_count": 127,
   "id": "565fe234-7c91-49d2-b088-d02f7ac66248",
   "metadata": {
    "execution": {
     "iopub.execute_input": "2022-12-05T15:02:43.853996Z",
     "iopub.status.busy": "2022-12-05T15:02:43.853996Z",
     "iopub.status.idle": "2022-12-05T15:02:43.865027Z",
     "shell.execute_reply": "2022-12-05T15:02:43.865027Z",
     "shell.execute_reply.started": "2022-12-05T15:02:43.853996Z"
    },
    "tags": []
   },
   "outputs": [],
   "source": [
    "def expl(md_df,name):\n",
    "    n_order_m = md_df.describe().iloc[1,0]\n",
    "    payment_m = md_df.describe().iloc[1,1]\n",
    "    rev_m_m = md_df.describe().iloc[1,-6]\n",
    "    age_m = md_df.describe().iloc[1,-3]\n",
    "    #build the explanatory df\n",
    "    expl_df = pd.DataFrame()\n",
    "    #first the frequence of the clusters\n",
    "    expl_df['freq'] = md_df.groupby(name).n_order.count()\n",
    "    expl_df['freq'] = round((expl_df['freq']/md_df.shape[0])*100,2)\n",
    "    #the mean ,ratio and max of the number of order\n",
    "    expl_df['n_order_mean'] = md_df.groupby(name).n_order.agg('mean')\n",
    "    expl_df['n_order_ratio'] = round(expl_df['n_order_mean']/n_order_m,2)\n",
    "    expl_df['n_order_max'] = md_df.groupby(name).n_order.agg('max')\n",
    "    #the mean and the ratio of the mean of payment\n",
    "    expl_df['payment_m_m'] = md_df.groupby(name).payment_mean.agg('mean')\n",
    "    expl_df['payment_m_r'] = round(expl_df['payment_m_m']/payment_m,2)\n",
    "    #the mean and ratio of the mean of review score\n",
    "    expl_df['rev_m_m'] = md_df.groupby(name).rev_mean.agg('mean')\n",
    "    expl_df['rev_ratio'] =round(expl_df['rev_m_m']/rev_m_m,2)\n",
    "    #the mean and ratio of the age of each cluster\n",
    "    expl_df['age_m_m'] = md_df.groupby(name).age.agg('mean')\n",
    "    expl_df['age_ratio'] =round(expl_df['age_m_m']/age_m,2)\n",
    "    #the top2 payment bucket for each cluster\n",
    "    temp = pd.DataFrame(md_df.groupby(name).mean())\n",
    "    temp = temp.iloc[:,3:18]\n",
    "    temp2 = temp.T\n",
    "\n",
    "    top1=[]\n",
    "    top2=[]\n",
    "    for i in range(temp2.shape[1]):    \n",
    "        val = list(round(temp2.iloc[:,i].nlargest(2),2))\n",
    "        cat = list(temp2.iloc[:,i].nlargest(2).index)\n",
    "        cat_top2 = dict(zip(cat, val))\n",
    "        cat_list = []\n",
    "        for y in cat_top2:\n",
    "            cat_list.append(str(y)+':'+str(cat_top2[y]))\n",
    "        top1.append(cat_list[0])\n",
    "        top2.append(cat_list[1])\n",
    "   \n",
    "       \n",
    "    expl_df = expl_df.join(pd.DataFrame({'top1_pay' : top1, 'top2_pay' : top2}))\n",
    "    #the top2 categories for each cluster\n",
    "    temp = pd.DataFrame(md_df.groupby(name).mean())\n",
    "    temp = temp.iloc[:,18:-5]\n",
    "    temp2 = temp.T\n",
    "\n",
    "    top1=[]\n",
    "    top2=[]\n",
    "    for i in range(temp2.shape[1]):    \n",
    "        val = list(round(temp2.iloc[:,i].nlargest(2),2))\n",
    "        cat = list(temp2.iloc[:,i].nlargest(2).index)\n",
    "        cat_top2 = dict(zip(cat, val))\n",
    "        cat_list = []\n",
    "        for y in cat_top2:\n",
    "            cat_list.append(str(y)+':'+str(cat_top2[y]))\n",
    "        top1.append(cat_list[0])\n",
    "        top2.append(cat_list[1])\n",
    "   \n",
    "       \n",
    "    expl_df = expl_df.join(pd.DataFrame({'top1_cat' : top1, 'top2_cat' : top2}))\n",
    "\n",
    "    return expl_df"
   ]
  },
  {
   "cell_type": "code",
   "execution_count": 128,
   "id": "d299909d-cfea-45e8-b43b-a75485a9c76b",
   "metadata": {
    "execution": {
     "iopub.execute_input": "2022-12-05T15:02:55.637152Z",
     "iopub.status.busy": "2022-12-05T15:02:55.637152Z",
     "iopub.status.idle": "2022-12-05T15:02:55.704153Z",
     "shell.execute_reply": "2022-12-05T15:02:55.703152Z",
     "shell.execute_reply.started": "2022-12-05T15:02:55.637152Z"
    },
    "tags": []
   },
   "outputs": [
    {
     "ename": "NameError",
     "evalue": "name 'n_order_m' is not defined",
     "output_type": "error",
     "traceback": [
      "\u001b[1;31m---------------------------------------------------------------------------\u001b[0m",
      "\u001b[1;31mNameError\u001b[0m                                 Traceback (most recent call last)",
      "Input \u001b[1;32mIn [128]\u001b[0m, in \u001b[0;36m<cell line: 1>\u001b[1;34m()\u001b[0m\n\u001b[1;32m----> 1\u001b[0m \u001b[43mexpl\u001b[49m\u001b[43m(\u001b[49m\u001b[43mt0\u001b[49m\u001b[43m,\u001b[49m\u001b[38;5;124;43m'\u001b[39;49m\u001b[38;5;124;43mtrue_labels\u001b[39;49m\u001b[38;5;124;43m'\u001b[39;49m\u001b[43m)\u001b[49m\n",
      "Input \u001b[1;32mIn [127]\u001b[0m, in \u001b[0;36mexpl\u001b[1;34m(md_df, name)\u001b[0m\n\u001b[0;32m      7\u001b[0m \u001b[38;5;66;03m#the mean ,ratio and max of the number of order\u001b[39;00m\n\u001b[0;32m      8\u001b[0m expl_df[\u001b[38;5;124m'\u001b[39m\u001b[38;5;124mn_order_mean\u001b[39m\u001b[38;5;124m'\u001b[39m] \u001b[38;5;241m=\u001b[39m md_df\u001b[38;5;241m.\u001b[39mgroupby(name)\u001b[38;5;241m.\u001b[39mn_order\u001b[38;5;241m.\u001b[39magg(\u001b[38;5;124m'\u001b[39m\u001b[38;5;124mmean\u001b[39m\u001b[38;5;124m'\u001b[39m)\n\u001b[1;32m----> 9\u001b[0m expl_df[\u001b[38;5;124m'\u001b[39m\u001b[38;5;124mn_order_ratio\u001b[39m\u001b[38;5;124m'\u001b[39m] \u001b[38;5;241m=\u001b[39m \u001b[38;5;28mround\u001b[39m(expl_df[\u001b[38;5;124m'\u001b[39m\u001b[38;5;124mn_order_mean\u001b[39m\u001b[38;5;124m'\u001b[39m]\u001b[38;5;241m/\u001b[39m\u001b[43mn_order_m\u001b[49m,\u001b[38;5;241m2\u001b[39m)\n\u001b[0;32m     10\u001b[0m expl_df[\u001b[38;5;124m'\u001b[39m\u001b[38;5;124mn_order_max\u001b[39m\u001b[38;5;124m'\u001b[39m] \u001b[38;5;241m=\u001b[39m md_df\u001b[38;5;241m.\u001b[39mgroupby(name)\u001b[38;5;241m.\u001b[39mn_order\u001b[38;5;241m.\u001b[39magg(\u001b[38;5;124m'\u001b[39m\u001b[38;5;124mmax\u001b[39m\u001b[38;5;124m'\u001b[39m)\n\u001b[0;32m     11\u001b[0m \u001b[38;5;66;03m#the mean and the ratio of the mean of payment\u001b[39;00m\n",
      "\u001b[1;31mNameError\u001b[0m: name 'n_order_m' is not defined"
     ]
    }
   ],
   "source": [
    "expl(t0,'true_labels')"
   ]
  },
  {
   "cell_type": "code",
   "execution_count": 41,
   "id": "7a108fe3-b78c-4b34-8383-ea11d205cd38",
   "metadata": {
    "execution": {
     "iopub.execute_input": "2022-12-05T14:19:14.897946Z",
     "iopub.status.busy": "2022-12-05T14:19:14.897946Z",
     "iopub.status.idle": "2022-12-05T14:19:14.915974Z",
     "shell.execute_reply": "2022-12-05T14:19:14.915974Z",
     "shell.execute_reply.started": "2022-12-05T14:19:14.897946Z"
    },
    "tags": []
   },
   "outputs": [],
   "source": [
    "\n",
    "df['order_dis'] = pd.cut(x['order_total'],30, duplicates = 'drop')"
   ]
  },
  {
   "cell_type": "code",
   "execution_count": 40,
   "id": "1a324ec8-5f99-4b59-ae52-72989517ca65",
   "metadata": {
    "execution": {
     "iopub.execute_input": "2022-12-05T14:19:08.441486Z",
     "iopub.status.busy": "2022-12-05T14:19:08.441486Z",
     "iopub.status.idle": "2022-12-05T14:19:08.459485Z",
     "shell.execute_reply": "2022-12-05T14:19:08.459485Z",
     "shell.execute_reply.started": "2022-12-05T14:19:08.441486Z"
    },
    "tags": []
   },
   "outputs": [
    {
     "name": "stdout",
     "output_type": "stream",
     "text": [
      "2254 1554 47\n"
     ]
    }
   ],
   "source": [
    "start = df['days_since_order'].max()\n",
    "end = df['days_since_order'].min()\n",
    "print(start, end, int(((start-365)-end)/7))\n"
   ]
  },
  {
   "cell_type": "code",
   "execution_count": 6,
   "id": "322954b6-5b6c-4498-8c18-124fdea99928",
   "metadata": {
    "execution": {
     "iopub.execute_input": "2022-12-05T13:32:15.416868Z",
     "iopub.status.busy": "2022-12-05T13:32:15.416868Z",
     "iopub.status.idle": "2022-12-05T13:32:15.434867Z",
     "shell.execute_reply": "2022-12-05T13:32:15.434867Z",
     "shell.execute_reply.started": "2022-12-05T13:32:15.416868Z"
    },
    "tags": []
   },
   "outputs": [
    {
     "data": {
      "text/plain": [
       "(3896, 7)"
      ]
     },
     "execution_count": 6,
     "metadata": {},
     "output_type": "execute_result"
    }
   ],
   "source": [
    "test = df.loc[df['days_since_order'] < (start-365) ]\n",
    "test.shape"
   ]
  },
  {
   "cell_type": "code",
   "execution_count": 12,
   "id": "522d754b-a903-4ee3-9f13-88a201df1c63",
   "metadata": {
    "execution": {
     "iopub.execute_input": "2022-12-05T13:33:39.425524Z",
     "iopub.status.busy": "2022-12-05T13:33:39.425524Z",
     "iopub.status.idle": "2022-12-05T13:33:39.805179Z",
     "shell.execute_reply": "2022-12-05T13:33:39.805179Z",
     "shell.execute_reply.started": "2022-12-05T13:33:39.425524Z"
    },
    "tags": []
   },
   "outputs": [
    {
     "name": "stderr",
     "output_type": "stream",
     "text": [
      "E:\\temp\\ipykernel_38228\\2128623664.py:16: SettingWithCopyWarning: \n",
      "A value is trying to be set on a copy of a slice from a DataFrame.\n",
      "Try using .loc[row_indexer,col_indexer] = value instead\n",
      "\n",
      "See the caveats in the documentation: https://pandas.pydata.org/pandas-docs/stable/user_guide/indexing.html#returning-a-view-versus-a-copy\n",
      "  x['order_dis'] = pd.cut(x['order_total'],30, duplicates = 'drop')\n"
     ]
    }
   ],
   "source": [
    "md_df = feat_eng(test)"
   ]
  },
  {
   "cell_type": "code",
   "execution_count": 13,
   "id": "b1d19e65-212c-4589-b34c-e4d66ef752a2",
   "metadata": {
    "execution": {
     "iopub.execute_input": "2022-12-05T13:33:41.457650Z",
     "iopub.status.busy": "2022-12-05T13:33:41.456649Z",
     "iopub.status.idle": "2022-12-05T13:33:41.468681Z",
     "shell.execute_reply": "2022-12-05T13:33:41.468681Z",
     "shell.execute_reply.started": "2022-12-05T13:33:41.457650Z"
    },
    "tags": []
   },
   "outputs": [
    {
     "data": {
      "text/plain": [
       "(1605, 139)"
      ]
     },
     "execution_count": 13,
     "metadata": {},
     "output_type": "execute_result"
    }
   ],
   "source": [
    "md_df.shape\n"
   ]
  },
  {
   "cell_type": "code",
   "execution_count": 14,
   "id": "ddcae440-bbad-4e35-a1ad-d401c8c8fe51",
   "metadata": {
    "execution": {
     "iopub.execute_input": "2022-12-05T13:33:44.392106Z",
     "iopub.status.busy": "2022-12-05T13:33:44.392106Z",
     "iopub.status.idle": "2022-12-05T13:33:44.405106Z",
     "shell.execute_reply": "2022-12-05T13:33:44.405106Z",
     "shell.execute_reply.started": "2022-12-05T13:33:44.392106Z"
    },
    "tags": []
   },
   "outputs": [
    {
     "data": {
      "text/plain": [
       "count    1605.000000\n",
       "mean        2.088474\n",
       "std         0.440639\n",
       "min         2.000000\n",
       "25%         2.000000\n",
       "50%         2.000000\n",
       "75%         2.000000\n",
       "max        10.000000\n",
       "Name: n_order, dtype: float64"
      ]
     },
     "execution_count": 14,
     "metadata": {},
     "output_type": "execute_result"
    }
   ],
   "source": [
    "md_df['n_order'].describe()"
   ]
  },
  {
   "cell_type": "code",
   "execution_count": null,
   "id": "138cdfe6-28d0-47bc-a1da-40d6d81e5d90",
   "metadata": {},
   "outputs": [],
   "source": []
  }
 ],
 "metadata": {
  "kernelspec": {
   "display_name": "Python 3 (ipykernel)",
   "language": "python",
   "name": "python3"
  },
  "language_info": {
   "codemirror_mode": {
    "name": "ipython",
    "version": 3
   },
   "file_extension": ".py",
   "mimetype": "text/x-python",
   "name": "python",
   "nbconvert_exporter": "python",
   "pygments_lexer": "ipython3",
   "version": "3.9.12"
  }
 },
 "nbformat": 4,
 "nbformat_minor": 5
}
