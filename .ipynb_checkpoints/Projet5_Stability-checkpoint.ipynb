{
 "cells": [
  {
   "cell_type": "code",
   "execution_count": 1,
   "id": "e6dfe4c0-817b-4d54-a071-48badc175b71",
   "metadata": {
    "execution": {
     "iopub.execute_input": "2022-12-01T09:28:22.499178Z",
     "iopub.status.busy": "2022-12-01T09:28:22.499178Z",
     "iopub.status.idle": "2022-12-01T09:28:24.388898Z",
     "shell.execute_reply": "2022-12-01T09:28:24.386964Z",
     "shell.execute_reply.started": "2022-12-01T09:28:22.499178Z"
    }
   },
   "outputs": [],
   "source": [
    "import pandas as pd\n",
    "import numpy as np\n",
    "import matplotlib.pyplot as plt\n",
    "import seaborn as sns\n",
    "import os"
   ]
  },
  {
   "cell_type": "code",
   "execution_count": 2,
   "id": "93fa413f-ff63-4253-b978-9bbaf48d4cb7",
   "metadata": {
    "execution": {
     "iopub.execute_input": "2022-12-01T09:28:25.753209Z",
     "iopub.status.busy": "2022-12-01T09:28:25.753209Z",
     "iopub.status.idle": "2022-12-01T09:28:26.006216Z",
     "shell.execute_reply": "2022-12-01T09:28:26.006216Z",
     "shell.execute_reply.started": "2022-12-01T09:28:25.753209Z"
    }
   },
   "outputs": [],
   "source": [
    "import time\n",
    "import datetime\n",
    "from sklearn import preprocessing\n",
    "from sklearn import cluster, metrics"
   ]
  },
  {
   "cell_type": "code",
   "execution_count": 3,
   "id": "d2364780-b157-4eae-9b1a-d242b783590e",
   "metadata": {
    "execution": {
     "iopub.execute_input": "2022-12-01T09:28:28.586226Z",
     "iopub.status.busy": "2022-12-01T09:28:28.586226Z",
     "iopub.status.idle": "2022-12-01T09:28:28.640408Z",
     "shell.execute_reply": "2022-12-01T09:28:28.640408Z",
     "shell.execute_reply.started": "2022-12-01T09:28:28.586226Z"
    }
   },
   "outputs": [],
   "source": [
    "df = pd.read_csv('md_df.csv')"
   ]
  },
  {
   "cell_type": "code",
   "execution_count": 5,
   "id": "2cb944e3-b54a-49b1-941a-46d473a971ae",
   "metadata": {
    "execution": {
     "iopub.execute_input": "2022-12-01T09:28:40.096541Z",
     "iopub.status.busy": "2022-12-01T09:28:40.096541Z",
     "iopub.status.idle": "2022-12-01T09:28:40.382537Z",
     "shell.execute_reply": "2022-12-01T09:28:40.382537Z",
     "shell.execute_reply.started": "2022-12-01T09:28:40.096541Z"
    },
    "tags": []
   },
   "outputs": [],
   "source": [
    "rscaler = preprocessing.RobustScaler()\n",
    "x_scale = rscaler.fit_transform(df)\n",
    "clus = cluster.KMeans(n_clusters = 30)\n",
    "clus.fit(x_scale)\n",
    "true_labels = clus.labels_"
   ]
  },
  {
   "cell_type": "code",
   "execution_count": 15,
   "id": "1a324ec8-5f99-4b59-ae52-72989517ca65",
   "metadata": {
    "execution": {
     "iopub.execute_input": "2022-12-01T09:52:23.964583Z",
     "iopub.status.busy": "2022-12-01T09:52:23.964583Z",
     "iopub.status.idle": "2022-12-01T09:52:23.976582Z",
     "shell.execute_reply": "2022-12-01T09:52:23.976582Z",
     "shell.execute_reply.started": "2022-12-01T09:52:23.964583Z"
    },
    "tags": []
   },
   "outputs": [],
   "source": [
    "start = df['days_since_last_order'].max()\n",
    "date = 15 # le nombre de jours, donc 15 ,30, 45, 60 ....\n",
    "x = df.loc[df['days_since_last_order'] > (start-date)].index\n",
    "#### selection des features utilisées \n",
    "#### les différentes étapes de transformation (standardscaler, éventuellement d'autres trucs)"
   ]
  },
  {
   "cell_type": "code",
   "execution_count": 19,
   "id": "7ebb91b5-4c3e-46c5-9dab-202fe5b520f6",
   "metadata": {
    "execution": {
     "iopub.execute_input": "2022-12-01T09:54:30.037949Z",
     "iopub.status.busy": "2022-12-01T09:54:30.037949Z",
     "iopub.status.idle": "2022-12-01T09:54:30.055929Z",
     "shell.execute_reply": "2022-12-01T09:54:30.054929Z",
     "shell.execute_reply.started": "2022-12-01T09:54:30.037949Z"
    },
    "tags": []
   },
   "outputs": [
    {
     "name": "stdout",
     "output_type": "stream",
     "text": [
      "(2808,) (2805,)\n"
     ]
    }
   ],
   "source": [
    "y = true_labels\n",
    "y = np.delete(y,x)\n",
    "print(true_labels.shape, y.shape)"
   ]
  },
  {
   "cell_type": "code",
   "execution_count": 25,
   "id": "bb5f5599-5ebc-43ec-aa64-8a6f2e20bc4e",
   "metadata": {
    "execution": {
     "iopub.execute_input": "2022-12-01T10:03:37.998902Z",
     "iopub.status.busy": "2022-12-01T10:03:37.997856Z",
     "iopub.status.idle": "2022-12-01T10:03:38.858853Z",
     "shell.execute_reply": "2022-12-01T10:03:38.858853Z",
     "shell.execute_reply.started": "2022-12-01T10:03:37.998902Z"
    },
    "tags": []
   },
   "outputs": [],
   "source": [
    "ari_l = []\n",
    "x = df\n",
    "true_mod = true_labels\n",
    "for i in range(4):\n",
    "    max_age = x['days_since_last_order'].max()\n",
    "    idx = x.loc[x['days_since_last_order'] > (max_age-15)].index\n",
    "    x = x.loc[x['days_since_last_order'] <= (max_age-15)]\n",
    "    x_scale2 = rscaler.fit_transform(x)\n",
    "    new_clus = cluster.KMeans(n_clusters = 30)\n",
    "    new_clus.fit(x_scale2)\n",
    "    pred_labels = new_clus.labels_\n",
    "    true_mod = np.delete(true_mod, idx)\n",
    "    ari_l.append(metrics.adjusted_rand_score(true_mod,pred_labels))\n"
   ]
  },
  {
   "cell_type": "code",
   "execution_count": 26,
   "id": "9734bdc1-a25a-4be1-b097-84e3043446cd",
   "metadata": {
    "execution": {
     "iopub.execute_input": "2022-12-01T10:03:41.316512Z",
     "iopub.status.busy": "2022-12-01T10:03:41.316512Z",
     "iopub.status.idle": "2022-12-01T10:03:41.331523Z",
     "shell.execute_reply": "2022-12-01T10:03:41.330514Z",
     "shell.execute_reply.started": "2022-12-01T10:03:41.316512Z"
    },
    "tags": []
   },
   "outputs": [
    {
     "data": {
      "text/plain": [
       "[0.751958527944497, 0.6622416385369089, 0.6885762461101336, 0.6029679921504034]"
      ]
     },
     "execution_count": 26,
     "metadata": {},
     "output_type": "execute_result"
    }
   ],
   "source": [
    "ari_l"
   ]
  },
  {
   "cell_type": "code",
   "execution_count": null,
   "id": "9bb685fb-445d-4465-a69b-6cdbc45d1045",
   "metadata": {},
   "outputs": [],
   "source": []
  }
 ],
 "metadata": {
  "kernelspec": {
   "display_name": "Python 3 (ipykernel)",
   "language": "python",
   "name": "python3"
  },
  "language_info": {
   "codemirror_mode": {
    "name": "ipython",
    "version": 3
   },
   "file_extension": ".py",
   "mimetype": "text/x-python",
   "name": "python",
   "nbconvert_exporter": "python",
   "pygments_lexer": "ipython3",
   "version": "3.9.12"
  }
 },
 "nbformat": 4,
 "nbformat_minor": 5
}
